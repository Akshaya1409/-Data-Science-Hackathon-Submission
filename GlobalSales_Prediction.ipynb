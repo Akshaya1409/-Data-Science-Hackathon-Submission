{
  "nbformat": 4,
  "nbformat_minor": 0,
  "metadata": {
    "colab": {
      "name": "GlobalSales_Prediction.ipynb",
      "provenance": [],
      "collapsed_sections": []
    },
    "kernelspec": {
      "name": "python3",
      "display_name": "Python 3"
    },
    "language_info": {
      "name": "python"
    }
  },
  "cells": [
    {
      "cell_type": "markdown",
      "source": [
        " # **Potential Global user Prediction**\n",
        "\n",
        "---\n",
        "The Dataset has the following features\n",
        "\n",
        "1. Name - Game name\n",
        "2. Platform - Running platform\n",
        "3. year of release\n",
        "4. Genre - Game Genre\n",
        "5. Publisher\n",
        "6. Critic_score - Aggregate score compiled by Metacritic staff\n",
        "7. Criticcount - The number of critics used in coming up with the Critic Score\n",
        "8. User_score - Score by Metacritic’s subscribers\n",
        "9. Usercount - Number of users who gave the user score\n",
        "10. Developer - Party responsible for creating the game\n",
        "11. Rating - The ESRB ratings\n",
        "12. NA_Sales - Sales in North America (in millions of units)\n",
        "13. EU_Sales - Sales in the European Union (in millions of units)\n",
        "14. JP_Sales - Sales in Japan (in millions of units)\n",
        "15. Global_Sales - Total sales in the world (in millions of units)\n",
        "\n",
        "**The task is to predict the potential global user of the game based on the data provided by the customer so that they can plan their global launch**\n",
        "\n",
        "\n",
        "\n",
        "\n",
        "\n",
        "\n",
        "\n"
      ],
      "metadata": {
        "id": "zCQXYZ1RIs1v"
      }
    },
    {
      "cell_type": "markdown",
      "source": [
        "##**Reading the dataset**\n",
        "Before reading the dataset,all the important libraries are imported"
      ],
      "metadata": {
        "id": "ofV3RRg8K5gh"
      }
    },
    {
      "cell_type": "code",
      "execution_count": 1,
      "metadata": {
        "id": "SnpG-1yMT6q_"
      },
      "outputs": [],
      "source": [
        "# Import the required packages\n",
        "import numpy as np \n",
        "import pandas as pd  # Dataframe manipulation\n",
        "import matplotlib.pyplot as plt  # Visualization \n",
        "import seaborn as sns   # Visualization \n",
        "from sklearn.linear_model import LinearRegression  # for Linear regression\n",
        "from sklearn.model_selection import train_test_split\n",
        "from sklearn import metrics\n",
        "from sklearn import preprocessing   \n",
        "from sklearn.ensemble import RandomForestRegressor   # RandomForestRegressor"
      ]
    },
    {
      "cell_type": "code",
      "source": [
        "#Reading the Train.csv dataset\n",
        "train_df=pd.read_csv('/content/Train.csv')\n",
        "# After reading the dataset, let’s check its top 5 rows using head() method to just see how the data looks.\n",
        "train_df.head(5) "
      ],
      "metadata": {
        "colab": {
          "base_uri": "https://localhost:8080/",
          "height": 340
        },
        "id": "GOnLowCBxwgv",
        "outputId": "e3c9e07a-5b37-4a7b-d9d7-b9036aaff6f2"
      },
      "execution_count": 2,
      "outputs": [
        {
          "output_type": "execute_result",
          "data": {
            "text/plain": [
              "                       Name Platform  Year_of_Release         Genre Publisher  \\\n",
              "0                Wii Sports      Wii           2006.0        Sports  Nintendo   \n",
              "1         Super Mario Bros.      NES           1985.0      Platform  Nintendo   \n",
              "2            Mario Kart Wii      Wii           2008.0        Racing  Nintendo   \n",
              "3         Wii Sports Resort      Wii           2009.0        Sports  Nintendo   \n",
              "4  Pokemon Red/Pokemon Blue       GB           1996.0  Role-Playing  Nintendo   \n",
              "\n",
              "   NA_Sales  EU_Sales  JP_Sales  Critic_Score  Critic_Count User_Score  \\\n",
              "0     41.36     28.96      3.77          76.0          51.0          8   \n",
              "1     29.08      3.58      6.81           NaN           NaN        NaN   \n",
              "2     15.68     12.76      3.79          82.0          73.0        8.3   \n",
              "3     15.61     10.93      3.28          80.0          73.0          8   \n",
              "4     11.27      8.89     10.22           NaN           NaN        NaN   \n",
              "\n",
              "   User_Count Developer Rating  Global_Sales  \n",
              "0       322.0  Nintendo      E         82.53  \n",
              "1         NaN       NaN    NaN         40.24  \n",
              "2       709.0  Nintendo      E         35.52  \n",
              "3       192.0  Nintendo      E         32.77  \n",
              "4         NaN       NaN    NaN         31.37  "
            ],
            "text/html": [
              "\n",
              "  <div id=\"df-6efd969a-b6cf-4afc-8520-5016f4eaa2ef\">\n",
              "    <div class=\"colab-df-container\">\n",
              "      <div>\n",
              "<style scoped>\n",
              "    .dataframe tbody tr th:only-of-type {\n",
              "        vertical-align: middle;\n",
              "    }\n",
              "\n",
              "    .dataframe tbody tr th {\n",
              "        vertical-align: top;\n",
              "    }\n",
              "\n",
              "    .dataframe thead th {\n",
              "        text-align: right;\n",
              "    }\n",
              "</style>\n",
              "<table border=\"1\" class=\"dataframe\">\n",
              "  <thead>\n",
              "    <tr style=\"text-align: right;\">\n",
              "      <th></th>\n",
              "      <th>Name</th>\n",
              "      <th>Platform</th>\n",
              "      <th>Year_of_Release</th>\n",
              "      <th>Genre</th>\n",
              "      <th>Publisher</th>\n",
              "      <th>NA_Sales</th>\n",
              "      <th>EU_Sales</th>\n",
              "      <th>JP_Sales</th>\n",
              "      <th>Critic_Score</th>\n",
              "      <th>Critic_Count</th>\n",
              "      <th>User_Score</th>\n",
              "      <th>User_Count</th>\n",
              "      <th>Developer</th>\n",
              "      <th>Rating</th>\n",
              "      <th>Global_Sales</th>\n",
              "    </tr>\n",
              "  </thead>\n",
              "  <tbody>\n",
              "    <tr>\n",
              "      <th>0</th>\n",
              "      <td>Wii Sports</td>\n",
              "      <td>Wii</td>\n",
              "      <td>2006.0</td>\n",
              "      <td>Sports</td>\n",
              "      <td>Nintendo</td>\n",
              "      <td>41.36</td>\n",
              "      <td>28.96</td>\n",
              "      <td>3.77</td>\n",
              "      <td>76.0</td>\n",
              "      <td>51.0</td>\n",
              "      <td>8</td>\n",
              "      <td>322.0</td>\n",
              "      <td>Nintendo</td>\n",
              "      <td>E</td>\n",
              "      <td>82.53</td>\n",
              "    </tr>\n",
              "    <tr>\n",
              "      <th>1</th>\n",
              "      <td>Super Mario Bros.</td>\n",
              "      <td>NES</td>\n",
              "      <td>1985.0</td>\n",
              "      <td>Platform</td>\n",
              "      <td>Nintendo</td>\n",
              "      <td>29.08</td>\n",
              "      <td>3.58</td>\n",
              "      <td>6.81</td>\n",
              "      <td>NaN</td>\n",
              "      <td>NaN</td>\n",
              "      <td>NaN</td>\n",
              "      <td>NaN</td>\n",
              "      <td>NaN</td>\n",
              "      <td>NaN</td>\n",
              "      <td>40.24</td>\n",
              "    </tr>\n",
              "    <tr>\n",
              "      <th>2</th>\n",
              "      <td>Mario Kart Wii</td>\n",
              "      <td>Wii</td>\n",
              "      <td>2008.0</td>\n",
              "      <td>Racing</td>\n",
              "      <td>Nintendo</td>\n",
              "      <td>15.68</td>\n",
              "      <td>12.76</td>\n",
              "      <td>3.79</td>\n",
              "      <td>82.0</td>\n",
              "      <td>73.0</td>\n",
              "      <td>8.3</td>\n",
              "      <td>709.0</td>\n",
              "      <td>Nintendo</td>\n",
              "      <td>E</td>\n",
              "      <td>35.52</td>\n",
              "    </tr>\n",
              "    <tr>\n",
              "      <th>3</th>\n",
              "      <td>Wii Sports Resort</td>\n",
              "      <td>Wii</td>\n",
              "      <td>2009.0</td>\n",
              "      <td>Sports</td>\n",
              "      <td>Nintendo</td>\n",
              "      <td>15.61</td>\n",
              "      <td>10.93</td>\n",
              "      <td>3.28</td>\n",
              "      <td>80.0</td>\n",
              "      <td>73.0</td>\n",
              "      <td>8</td>\n",
              "      <td>192.0</td>\n",
              "      <td>Nintendo</td>\n",
              "      <td>E</td>\n",
              "      <td>32.77</td>\n",
              "    </tr>\n",
              "    <tr>\n",
              "      <th>4</th>\n",
              "      <td>Pokemon Red/Pokemon Blue</td>\n",
              "      <td>GB</td>\n",
              "      <td>1996.0</td>\n",
              "      <td>Role-Playing</td>\n",
              "      <td>Nintendo</td>\n",
              "      <td>11.27</td>\n",
              "      <td>8.89</td>\n",
              "      <td>10.22</td>\n",
              "      <td>NaN</td>\n",
              "      <td>NaN</td>\n",
              "      <td>NaN</td>\n",
              "      <td>NaN</td>\n",
              "      <td>NaN</td>\n",
              "      <td>NaN</td>\n",
              "      <td>31.37</td>\n",
              "    </tr>\n",
              "  </tbody>\n",
              "</table>\n",
              "</div>\n",
              "      <button class=\"colab-df-convert\" onclick=\"convertToInteractive('df-6efd969a-b6cf-4afc-8520-5016f4eaa2ef')\"\n",
              "              title=\"Convert this dataframe to an interactive table.\"\n",
              "              style=\"display:none;\">\n",
              "        \n",
              "  <svg xmlns=\"http://www.w3.org/2000/svg\" height=\"24px\"viewBox=\"0 0 24 24\"\n",
              "       width=\"24px\">\n",
              "    <path d=\"M0 0h24v24H0V0z\" fill=\"none\"/>\n",
              "    <path d=\"M18.56 5.44l.94 2.06.94-2.06 2.06-.94-2.06-.94-.94-2.06-.94 2.06-2.06.94zm-11 1L8.5 8.5l.94-2.06 2.06-.94-2.06-.94L8.5 2.5l-.94 2.06-2.06.94zm10 10l.94 2.06.94-2.06 2.06-.94-2.06-.94-.94-2.06-.94 2.06-2.06.94z\"/><path d=\"M17.41 7.96l-1.37-1.37c-.4-.4-.92-.59-1.43-.59-.52 0-1.04.2-1.43.59L10.3 9.45l-7.72 7.72c-.78.78-.78 2.05 0 2.83L4 21.41c.39.39.9.59 1.41.59.51 0 1.02-.2 1.41-.59l7.78-7.78 2.81-2.81c.8-.78.8-2.07 0-2.86zM5.41 20L4 18.59l7.72-7.72 1.47 1.35L5.41 20z\"/>\n",
              "  </svg>\n",
              "      </button>\n",
              "      \n",
              "  <style>\n",
              "    .colab-df-container {\n",
              "      display:flex;\n",
              "      flex-wrap:wrap;\n",
              "      gap: 12px;\n",
              "    }\n",
              "\n",
              "    .colab-df-convert {\n",
              "      background-color: #E8F0FE;\n",
              "      border: none;\n",
              "      border-radius: 50%;\n",
              "      cursor: pointer;\n",
              "      display: none;\n",
              "      fill: #1967D2;\n",
              "      height: 32px;\n",
              "      padding: 0 0 0 0;\n",
              "      width: 32px;\n",
              "    }\n",
              "\n",
              "    .colab-df-convert:hover {\n",
              "      background-color: #E2EBFA;\n",
              "      box-shadow: 0px 1px 2px rgba(60, 64, 67, 0.3), 0px 1px 3px 1px rgba(60, 64, 67, 0.15);\n",
              "      fill: #174EA6;\n",
              "    }\n",
              "\n",
              "    [theme=dark] .colab-df-convert {\n",
              "      background-color: #3B4455;\n",
              "      fill: #D2E3FC;\n",
              "    }\n",
              "\n",
              "    [theme=dark] .colab-df-convert:hover {\n",
              "      background-color: #434B5C;\n",
              "      box-shadow: 0px 1px 3px 1px rgba(0, 0, 0, 0.15);\n",
              "      filter: drop-shadow(0px 1px 2px rgba(0, 0, 0, 0.3));\n",
              "      fill: #FFFFFF;\n",
              "    }\n",
              "  </style>\n",
              "\n",
              "      <script>\n",
              "        const buttonEl =\n",
              "          document.querySelector('#df-6efd969a-b6cf-4afc-8520-5016f4eaa2ef button.colab-df-convert');\n",
              "        buttonEl.style.display =\n",
              "          google.colab.kernel.accessAllowed ? 'block' : 'none';\n",
              "\n",
              "        async function convertToInteractive(key) {\n",
              "          const element = document.querySelector('#df-6efd969a-b6cf-4afc-8520-5016f4eaa2ef');\n",
              "          const dataTable =\n",
              "            await google.colab.kernel.invokeFunction('convertToInteractive',\n",
              "                                                     [key], {});\n",
              "          if (!dataTable) return;\n",
              "\n",
              "          const docLinkHtml = 'Like what you see? Visit the ' +\n",
              "            '<a target=\"_blank\" href=https://colab.research.google.com/notebooks/data_table.ipynb>data table notebook</a>'\n",
              "            + ' to learn more about interactive tables.';\n",
              "          element.innerHTML = '';\n",
              "          dataTable['output_type'] = 'display_data';\n",
              "          await google.colab.output.renderOutput(dataTable, element);\n",
              "          const docLink = document.createElement('div');\n",
              "          docLink.innerHTML = docLinkHtml;\n",
              "          element.appendChild(docLink);\n",
              "        }\n",
              "      </script>\n",
              "    </div>\n",
              "  </div>\n",
              "  "
            ]
          },
          "metadata": {},
          "execution_count": 2
        }
      ]
    },
    {
      "cell_type": "code",
      "source": [
        "# Checking the shape of the dataset\n",
        "train_df.shape "
      ],
      "metadata": {
        "colab": {
          "base_uri": "https://localhost:8080/"
        },
        "id": "O63WyyvJybV-",
        "outputId": "92ffd4f8-8335-44f1-818f-53b1b5a88c12"
      },
      "execution_count": 3,
      "outputs": [
        {
          "output_type": "execute_result",
          "data": {
            "text/plain": [
              "(14576, 15)"
            ]
          },
          "metadata": {},
          "execution_count": 3
        }
      ]
    },
    {
      "cell_type": "code",
      "source": [
        "# Finding out the number of non-null values and the datatype of each and every attribute of Train.csv\n",
        "train_df.info()"
      ],
      "metadata": {
        "colab": {
          "base_uri": "https://localhost:8080/"
        },
        "id": "tSznNmNYyysu",
        "outputId": "45111f1f-162a-466e-c14c-27ce3fab066b"
      },
      "execution_count": 4,
      "outputs": [
        {
          "output_type": "stream",
          "name": "stdout",
          "text": [
            "<class 'pandas.core.frame.DataFrame'>\n",
            "RangeIndex: 14576 entries, 0 to 14575\n",
            "Data columns (total 15 columns):\n",
            " #   Column           Non-Null Count  Dtype  \n",
            "---  ------           --------------  -----  \n",
            " 0   Name             14574 non-null  object \n",
            " 1   Platform         14576 non-null  object \n",
            " 2   Year_of_Release  14344 non-null  float64\n",
            " 3   Genre            14574 non-null  object \n",
            " 4   Publisher        14527 non-null  object \n",
            " 5   NA_Sales         14576 non-null  float64\n",
            " 6   EU_Sales         14576 non-null  float64\n",
            " 7   JP_Sales         14576 non-null  float64\n",
            " 8   Critic_Score     7217 non-null   float64\n",
            " 9   Critic_Count     7217 non-null   float64\n",
            " 10  User_Score       8760 non-null   object \n",
            " 11  User_Count       6796 non-null   float64\n",
            " 12  Developer        8829 non-null   object \n",
            " 13  Rating           8704 non-null   object \n",
            " 14  Global_Sales     14576 non-null  float64\n",
            "dtypes: float64(8), object(7)\n",
            "memory usage: 1.7+ MB\n"
          ]
        }
      ]
    },
    {
      "cell_type": "code",
      "source": [
        "train_df.describe(include='all')   #description of the columns"
      ],
      "metadata": {
        "colab": {
          "base_uri": "https://localhost:8080/",
          "height": 528
        },
        "id": "NYtru9J_Mfib",
        "outputId": "6cf93728-cef0-4da0-bfa0-b1b4a6da1b0c"
      },
      "execution_count": 5,
      "outputs": [
        {
          "output_type": "execute_result",
          "data": {
            "text/plain": [
              "                               Name Platform  Year_of_Release   Genre  \\\n",
              "count                         14574    14576     14344.000000   14574   \n",
              "unique                        10327       31              NaN      12   \n",
              "top     Need for Speed: Most Wanted      PS2              NaN  Action   \n",
              "freq                             11     1935              NaN    2974   \n",
              "mean                            NaN      NaN      2006.437117     NaN   \n",
              "std                             NaN      NaN         5.955664     NaN   \n",
              "min                             NaN      NaN      1980.000000     NaN   \n",
              "25%                             NaN      NaN      2003.000000     NaN   \n",
              "50%                             NaN      NaN      2007.000000     NaN   \n",
              "75%                             NaN      NaN      2010.000000     NaN   \n",
              "max                             NaN      NaN      2020.000000     NaN   \n",
              "\n",
              "              Publisher      NA_Sales      EU_Sales      JP_Sales  \\\n",
              "count             14527  14576.000000  14576.000000  14576.000000   \n",
              "unique              552           NaN           NaN           NaN   \n",
              "top     Electronic Arts           NaN           NaN           NaN   \n",
              "freq               1267           NaN           NaN           NaN   \n",
              "mean                NaN      0.295577      0.163957      0.085659   \n",
              "std                 NaN      0.866491      0.536354      0.329646   \n",
              "min                 NaN      0.000000      0.000000      0.000000   \n",
              "25%                 NaN      0.000000      0.000000      0.000000   \n",
              "50%                 NaN      0.100000      0.030000      0.000000   \n",
              "75%                 NaN      0.280000      0.130000      0.030000   \n",
              "max                 NaN     41.360000     28.960000     10.220000   \n",
              "\n",
              "        Critic_Score  Critic_Count User_Score    User_Count Developer Rating  \\\n",
              "count    7217.000000   7217.000000       8760   6796.000000      8829   8704   \n",
              "unique           NaN           NaN         96           NaN      1577      8   \n",
              "top              NaN           NaN        tbd           NaN   Ubisoft      E   \n",
              "freq             NaN           NaN       1964           NaN       171   3460   \n",
              "mean       69.676043     27.312041        NaN    172.513096       NaN    NaN   \n",
              "std        13.773391     19.464196        NaN    576.609716       NaN    NaN   \n",
              "min        13.000000      3.000000        NaN      4.000000       NaN    NaN   \n",
              "25%        61.000000     12.000000        NaN     11.000000       NaN    NaN   \n",
              "50%        71.000000     22.000000        NaN     27.000000       NaN    NaN   \n",
              "75%        80.000000     38.000000        NaN     89.000000       NaN    NaN   \n",
              "max        98.000000    113.000000        NaN  10665.000000       NaN    NaN   \n",
              "\n",
              "        Global_Sales  \n",
              "count   14576.000000  \n",
              "unique           NaN  \n",
              "top              NaN  \n",
              "freq             NaN  \n",
              "mean        0.598972  \n",
              "std         1.647699  \n",
              "min         0.010000  \n",
              "25%         0.050000  \n",
              "50%         0.220000  \n",
              "75%         0.550000  \n",
              "max        82.530000  "
            ],
            "text/html": [
              "\n",
              "  <div id=\"df-eae3817a-0ab6-4d01-ad0b-a47607de5444\">\n",
              "    <div class=\"colab-df-container\">\n",
              "      <div>\n",
              "<style scoped>\n",
              "    .dataframe tbody tr th:only-of-type {\n",
              "        vertical-align: middle;\n",
              "    }\n",
              "\n",
              "    .dataframe tbody tr th {\n",
              "        vertical-align: top;\n",
              "    }\n",
              "\n",
              "    .dataframe thead th {\n",
              "        text-align: right;\n",
              "    }\n",
              "</style>\n",
              "<table border=\"1\" class=\"dataframe\">\n",
              "  <thead>\n",
              "    <tr style=\"text-align: right;\">\n",
              "      <th></th>\n",
              "      <th>Name</th>\n",
              "      <th>Platform</th>\n",
              "      <th>Year_of_Release</th>\n",
              "      <th>Genre</th>\n",
              "      <th>Publisher</th>\n",
              "      <th>NA_Sales</th>\n",
              "      <th>EU_Sales</th>\n",
              "      <th>JP_Sales</th>\n",
              "      <th>Critic_Score</th>\n",
              "      <th>Critic_Count</th>\n",
              "      <th>User_Score</th>\n",
              "      <th>User_Count</th>\n",
              "      <th>Developer</th>\n",
              "      <th>Rating</th>\n",
              "      <th>Global_Sales</th>\n",
              "    </tr>\n",
              "  </thead>\n",
              "  <tbody>\n",
              "    <tr>\n",
              "      <th>count</th>\n",
              "      <td>14574</td>\n",
              "      <td>14576</td>\n",
              "      <td>14344.000000</td>\n",
              "      <td>14574</td>\n",
              "      <td>14527</td>\n",
              "      <td>14576.000000</td>\n",
              "      <td>14576.000000</td>\n",
              "      <td>14576.000000</td>\n",
              "      <td>7217.000000</td>\n",
              "      <td>7217.000000</td>\n",
              "      <td>8760</td>\n",
              "      <td>6796.000000</td>\n",
              "      <td>8829</td>\n",
              "      <td>8704</td>\n",
              "      <td>14576.000000</td>\n",
              "    </tr>\n",
              "    <tr>\n",
              "      <th>unique</th>\n",
              "      <td>10327</td>\n",
              "      <td>31</td>\n",
              "      <td>NaN</td>\n",
              "      <td>12</td>\n",
              "      <td>552</td>\n",
              "      <td>NaN</td>\n",
              "      <td>NaN</td>\n",
              "      <td>NaN</td>\n",
              "      <td>NaN</td>\n",
              "      <td>NaN</td>\n",
              "      <td>96</td>\n",
              "      <td>NaN</td>\n",
              "      <td>1577</td>\n",
              "      <td>8</td>\n",
              "      <td>NaN</td>\n",
              "    </tr>\n",
              "    <tr>\n",
              "      <th>top</th>\n",
              "      <td>Need for Speed: Most Wanted</td>\n",
              "      <td>PS2</td>\n",
              "      <td>NaN</td>\n",
              "      <td>Action</td>\n",
              "      <td>Electronic Arts</td>\n",
              "      <td>NaN</td>\n",
              "      <td>NaN</td>\n",
              "      <td>NaN</td>\n",
              "      <td>NaN</td>\n",
              "      <td>NaN</td>\n",
              "      <td>tbd</td>\n",
              "      <td>NaN</td>\n",
              "      <td>Ubisoft</td>\n",
              "      <td>E</td>\n",
              "      <td>NaN</td>\n",
              "    </tr>\n",
              "    <tr>\n",
              "      <th>freq</th>\n",
              "      <td>11</td>\n",
              "      <td>1935</td>\n",
              "      <td>NaN</td>\n",
              "      <td>2974</td>\n",
              "      <td>1267</td>\n",
              "      <td>NaN</td>\n",
              "      <td>NaN</td>\n",
              "      <td>NaN</td>\n",
              "      <td>NaN</td>\n",
              "      <td>NaN</td>\n",
              "      <td>1964</td>\n",
              "      <td>NaN</td>\n",
              "      <td>171</td>\n",
              "      <td>3460</td>\n",
              "      <td>NaN</td>\n",
              "    </tr>\n",
              "    <tr>\n",
              "      <th>mean</th>\n",
              "      <td>NaN</td>\n",
              "      <td>NaN</td>\n",
              "      <td>2006.437117</td>\n",
              "      <td>NaN</td>\n",
              "      <td>NaN</td>\n",
              "      <td>0.295577</td>\n",
              "      <td>0.163957</td>\n",
              "      <td>0.085659</td>\n",
              "      <td>69.676043</td>\n",
              "      <td>27.312041</td>\n",
              "      <td>NaN</td>\n",
              "      <td>172.513096</td>\n",
              "      <td>NaN</td>\n",
              "      <td>NaN</td>\n",
              "      <td>0.598972</td>\n",
              "    </tr>\n",
              "    <tr>\n",
              "      <th>std</th>\n",
              "      <td>NaN</td>\n",
              "      <td>NaN</td>\n",
              "      <td>5.955664</td>\n",
              "      <td>NaN</td>\n",
              "      <td>NaN</td>\n",
              "      <td>0.866491</td>\n",
              "      <td>0.536354</td>\n",
              "      <td>0.329646</td>\n",
              "      <td>13.773391</td>\n",
              "      <td>19.464196</td>\n",
              "      <td>NaN</td>\n",
              "      <td>576.609716</td>\n",
              "      <td>NaN</td>\n",
              "      <td>NaN</td>\n",
              "      <td>1.647699</td>\n",
              "    </tr>\n",
              "    <tr>\n",
              "      <th>min</th>\n",
              "      <td>NaN</td>\n",
              "      <td>NaN</td>\n",
              "      <td>1980.000000</td>\n",
              "      <td>NaN</td>\n",
              "      <td>NaN</td>\n",
              "      <td>0.000000</td>\n",
              "      <td>0.000000</td>\n",
              "      <td>0.000000</td>\n",
              "      <td>13.000000</td>\n",
              "      <td>3.000000</td>\n",
              "      <td>NaN</td>\n",
              "      <td>4.000000</td>\n",
              "      <td>NaN</td>\n",
              "      <td>NaN</td>\n",
              "      <td>0.010000</td>\n",
              "    </tr>\n",
              "    <tr>\n",
              "      <th>25%</th>\n",
              "      <td>NaN</td>\n",
              "      <td>NaN</td>\n",
              "      <td>2003.000000</td>\n",
              "      <td>NaN</td>\n",
              "      <td>NaN</td>\n",
              "      <td>0.000000</td>\n",
              "      <td>0.000000</td>\n",
              "      <td>0.000000</td>\n",
              "      <td>61.000000</td>\n",
              "      <td>12.000000</td>\n",
              "      <td>NaN</td>\n",
              "      <td>11.000000</td>\n",
              "      <td>NaN</td>\n",
              "      <td>NaN</td>\n",
              "      <td>0.050000</td>\n",
              "    </tr>\n",
              "    <tr>\n",
              "      <th>50%</th>\n",
              "      <td>NaN</td>\n",
              "      <td>NaN</td>\n",
              "      <td>2007.000000</td>\n",
              "      <td>NaN</td>\n",
              "      <td>NaN</td>\n",
              "      <td>0.100000</td>\n",
              "      <td>0.030000</td>\n",
              "      <td>0.000000</td>\n",
              "      <td>71.000000</td>\n",
              "      <td>22.000000</td>\n",
              "      <td>NaN</td>\n",
              "      <td>27.000000</td>\n",
              "      <td>NaN</td>\n",
              "      <td>NaN</td>\n",
              "      <td>0.220000</td>\n",
              "    </tr>\n",
              "    <tr>\n",
              "      <th>75%</th>\n",
              "      <td>NaN</td>\n",
              "      <td>NaN</td>\n",
              "      <td>2010.000000</td>\n",
              "      <td>NaN</td>\n",
              "      <td>NaN</td>\n",
              "      <td>0.280000</td>\n",
              "      <td>0.130000</td>\n",
              "      <td>0.030000</td>\n",
              "      <td>80.000000</td>\n",
              "      <td>38.000000</td>\n",
              "      <td>NaN</td>\n",
              "      <td>89.000000</td>\n",
              "      <td>NaN</td>\n",
              "      <td>NaN</td>\n",
              "      <td>0.550000</td>\n",
              "    </tr>\n",
              "    <tr>\n",
              "      <th>max</th>\n",
              "      <td>NaN</td>\n",
              "      <td>NaN</td>\n",
              "      <td>2020.000000</td>\n",
              "      <td>NaN</td>\n",
              "      <td>NaN</td>\n",
              "      <td>41.360000</td>\n",
              "      <td>28.960000</td>\n",
              "      <td>10.220000</td>\n",
              "      <td>98.000000</td>\n",
              "      <td>113.000000</td>\n",
              "      <td>NaN</td>\n",
              "      <td>10665.000000</td>\n",
              "      <td>NaN</td>\n",
              "      <td>NaN</td>\n",
              "      <td>82.530000</td>\n",
              "    </tr>\n",
              "  </tbody>\n",
              "</table>\n",
              "</div>\n",
              "      <button class=\"colab-df-convert\" onclick=\"convertToInteractive('df-eae3817a-0ab6-4d01-ad0b-a47607de5444')\"\n",
              "              title=\"Convert this dataframe to an interactive table.\"\n",
              "              style=\"display:none;\">\n",
              "        \n",
              "  <svg xmlns=\"http://www.w3.org/2000/svg\" height=\"24px\"viewBox=\"0 0 24 24\"\n",
              "       width=\"24px\">\n",
              "    <path d=\"M0 0h24v24H0V0z\" fill=\"none\"/>\n",
              "    <path d=\"M18.56 5.44l.94 2.06.94-2.06 2.06-.94-2.06-.94-.94-2.06-.94 2.06-2.06.94zm-11 1L8.5 8.5l.94-2.06 2.06-.94-2.06-.94L8.5 2.5l-.94 2.06-2.06.94zm10 10l.94 2.06.94-2.06 2.06-.94-2.06-.94-.94-2.06-.94 2.06-2.06.94z\"/><path d=\"M17.41 7.96l-1.37-1.37c-.4-.4-.92-.59-1.43-.59-.52 0-1.04.2-1.43.59L10.3 9.45l-7.72 7.72c-.78.78-.78 2.05 0 2.83L4 21.41c.39.39.9.59 1.41.59.51 0 1.02-.2 1.41-.59l7.78-7.78 2.81-2.81c.8-.78.8-2.07 0-2.86zM5.41 20L4 18.59l7.72-7.72 1.47 1.35L5.41 20z\"/>\n",
              "  </svg>\n",
              "      </button>\n",
              "      \n",
              "  <style>\n",
              "    .colab-df-container {\n",
              "      display:flex;\n",
              "      flex-wrap:wrap;\n",
              "      gap: 12px;\n",
              "    }\n",
              "\n",
              "    .colab-df-convert {\n",
              "      background-color: #E8F0FE;\n",
              "      border: none;\n",
              "      border-radius: 50%;\n",
              "      cursor: pointer;\n",
              "      display: none;\n",
              "      fill: #1967D2;\n",
              "      height: 32px;\n",
              "      padding: 0 0 0 0;\n",
              "      width: 32px;\n",
              "    }\n",
              "\n",
              "    .colab-df-convert:hover {\n",
              "      background-color: #E2EBFA;\n",
              "      box-shadow: 0px 1px 2px rgba(60, 64, 67, 0.3), 0px 1px 3px 1px rgba(60, 64, 67, 0.15);\n",
              "      fill: #174EA6;\n",
              "    }\n",
              "\n",
              "    [theme=dark] .colab-df-convert {\n",
              "      background-color: #3B4455;\n",
              "      fill: #D2E3FC;\n",
              "    }\n",
              "\n",
              "    [theme=dark] .colab-df-convert:hover {\n",
              "      background-color: #434B5C;\n",
              "      box-shadow: 0px 1px 3px 1px rgba(0, 0, 0, 0.15);\n",
              "      filter: drop-shadow(0px 1px 2px rgba(0, 0, 0, 0.3));\n",
              "      fill: #FFFFFF;\n",
              "    }\n",
              "  </style>\n",
              "\n",
              "      <script>\n",
              "        const buttonEl =\n",
              "          document.querySelector('#df-eae3817a-0ab6-4d01-ad0b-a47607de5444 button.colab-df-convert');\n",
              "        buttonEl.style.display =\n",
              "          google.colab.kernel.accessAllowed ? 'block' : 'none';\n",
              "\n",
              "        async function convertToInteractive(key) {\n",
              "          const element = document.querySelector('#df-eae3817a-0ab6-4d01-ad0b-a47607de5444');\n",
              "          const dataTable =\n",
              "            await google.colab.kernel.invokeFunction('convertToInteractive',\n",
              "                                                     [key], {});\n",
              "          if (!dataTable) return;\n",
              "\n",
              "          const docLinkHtml = 'Like what you see? Visit the ' +\n",
              "            '<a target=\"_blank\" href=https://colab.research.google.com/notebooks/data_table.ipynb>data table notebook</a>'\n",
              "            + ' to learn more about interactive tables.';\n",
              "          element.innerHTML = '';\n",
              "          dataTable['output_type'] = 'display_data';\n",
              "          await google.colab.output.renderOutput(dataTable, element);\n",
              "          const docLink = document.createElement('div');\n",
              "          docLink.innerHTML = docLinkHtml;\n",
              "          element.appendChild(docLink);\n",
              "        }\n",
              "      </script>\n",
              "    </div>\n",
              "  </div>\n",
              "  "
            ]
          },
          "metadata": {},
          "execution_count": 5
        }
      ]
    },
    {
      "cell_type": "code",
      "source": [
        "# checking for number of missing values in Train.csv\n",
        "train_df.isnull().sum()"
      ],
      "metadata": {
        "colab": {
          "base_uri": "https://localhost:8080/"
        },
        "id": "BVarYkChyWMg",
        "outputId": "39dd31d8-af99-4538-9c7e-32d25023fbd2"
      },
      "execution_count": 6,
      "outputs": [
        {
          "output_type": "execute_result",
          "data": {
            "text/plain": [
              "Name                  2\n",
              "Platform              0\n",
              "Year_of_Release     232\n",
              "Genre                 2\n",
              "Publisher            49\n",
              "NA_Sales              0\n",
              "EU_Sales              0\n",
              "JP_Sales              0\n",
              "Critic_Score       7359\n",
              "Critic_Count       7359\n",
              "User_Score         5816\n",
              "User_Count         7780\n",
              "Developer          5747\n",
              "Rating             5872\n",
              "Global_Sales          0\n",
              "dtype: int64"
            ]
          },
          "metadata": {},
          "execution_count": 6
        }
      ]
    },
    {
      "cell_type": "code",
      "source": [
        "#Reading the Train.csv dataset\n",
        "test_df=pd.read_csv('/content/Test.csv')\n",
        "# After reading the dataset, let’s check its top 5 rows using head() method to just see how the data looks.\n",
        "test_df.head()"
      ],
      "metadata": {
        "colab": {
          "base_uri": "https://localhost:8080/",
          "height": 461
        },
        "id": "I9gO50eMD8i3",
        "outputId": "b554f760-88de-4c1f-8c68-79988cac9c0e"
      },
      "execution_count": 7,
      "outputs": [
        {
          "output_type": "execute_result",
          "data": {
            "text/plain": [
              "                                    Name Platform  Year_of_Release     Genre  \\\n",
              "0                         Nicktoons: MLB     X360           2011.0    Sports   \n",
              "1  Shonen Jump's One Piece: Grand Battle      PS2           2005.0  Fighting   \n",
              "2                             Learn Math       DS           2009.0    Puzzle   \n",
              "3                              Nitrobike      Wii           2008.0    Racing   \n",
              "4             Cruise Ship Vacation Games      Wii           2009.0    Puzzle   \n",
              "\n",
              "                  Publisher  NA_Sales  EU_Sales  JP_Sales  Critic_Score  \\\n",
              "0      Take-Two Interactive      0.12      0.00       0.0           NaN   \n",
              "1                     Atari      0.07      0.05       0.0           NaN   \n",
              "2  DreamCatcher Interactive      0.12      0.00       0.0           NaN   \n",
              "3                   Ubisoft      0.11      0.01       0.0          49.0   \n",
              "4                 Avanquest      0.12      0.00       0.0           NaN   \n",
              "\n",
              "   Critic_Count User_Score  User_Count               Developer Rating  \n",
              "0           NaN        7.6         7.0   High Voltage Software      E  \n",
              "1           NaN        NaN         NaN                     NaN    NaN  \n",
              "2           NaN        tbd         NaN            Dreamcatcher      E  \n",
              "3          22.0        7.1         7.0  Left Field Productions   E10+  \n",
              "4           NaN        tbd         NaN              Activision      E  "
            ],
            "text/html": [
              "\n",
              "  <div id=\"df-ada9bb44-29df-4732-8601-b4d2ee746e05\">\n",
              "    <div class=\"colab-df-container\">\n",
              "      <div>\n",
              "<style scoped>\n",
              "    .dataframe tbody tr th:only-of-type {\n",
              "        vertical-align: middle;\n",
              "    }\n",
              "\n",
              "    .dataframe tbody tr th {\n",
              "        vertical-align: top;\n",
              "    }\n",
              "\n",
              "    .dataframe thead th {\n",
              "        text-align: right;\n",
              "    }\n",
              "</style>\n",
              "<table border=\"1\" class=\"dataframe\">\n",
              "  <thead>\n",
              "    <tr style=\"text-align: right;\">\n",
              "      <th></th>\n",
              "      <th>Name</th>\n",
              "      <th>Platform</th>\n",
              "      <th>Year_of_Release</th>\n",
              "      <th>Genre</th>\n",
              "      <th>Publisher</th>\n",
              "      <th>NA_Sales</th>\n",
              "      <th>EU_Sales</th>\n",
              "      <th>JP_Sales</th>\n",
              "      <th>Critic_Score</th>\n",
              "      <th>Critic_Count</th>\n",
              "      <th>User_Score</th>\n",
              "      <th>User_Count</th>\n",
              "      <th>Developer</th>\n",
              "      <th>Rating</th>\n",
              "    </tr>\n",
              "  </thead>\n",
              "  <tbody>\n",
              "    <tr>\n",
              "      <th>0</th>\n",
              "      <td>Nicktoons: MLB</td>\n",
              "      <td>X360</td>\n",
              "      <td>2011.0</td>\n",
              "      <td>Sports</td>\n",
              "      <td>Take-Two Interactive</td>\n",
              "      <td>0.12</td>\n",
              "      <td>0.00</td>\n",
              "      <td>0.0</td>\n",
              "      <td>NaN</td>\n",
              "      <td>NaN</td>\n",
              "      <td>7.6</td>\n",
              "      <td>7.0</td>\n",
              "      <td>High Voltage Software</td>\n",
              "      <td>E</td>\n",
              "    </tr>\n",
              "    <tr>\n",
              "      <th>1</th>\n",
              "      <td>Shonen Jump's One Piece: Grand Battle</td>\n",
              "      <td>PS2</td>\n",
              "      <td>2005.0</td>\n",
              "      <td>Fighting</td>\n",
              "      <td>Atari</td>\n",
              "      <td>0.07</td>\n",
              "      <td>0.05</td>\n",
              "      <td>0.0</td>\n",
              "      <td>NaN</td>\n",
              "      <td>NaN</td>\n",
              "      <td>NaN</td>\n",
              "      <td>NaN</td>\n",
              "      <td>NaN</td>\n",
              "      <td>NaN</td>\n",
              "    </tr>\n",
              "    <tr>\n",
              "      <th>2</th>\n",
              "      <td>Learn Math</td>\n",
              "      <td>DS</td>\n",
              "      <td>2009.0</td>\n",
              "      <td>Puzzle</td>\n",
              "      <td>DreamCatcher Interactive</td>\n",
              "      <td>0.12</td>\n",
              "      <td>0.00</td>\n",
              "      <td>0.0</td>\n",
              "      <td>NaN</td>\n",
              "      <td>NaN</td>\n",
              "      <td>tbd</td>\n",
              "      <td>NaN</td>\n",
              "      <td>Dreamcatcher</td>\n",
              "      <td>E</td>\n",
              "    </tr>\n",
              "    <tr>\n",
              "      <th>3</th>\n",
              "      <td>Nitrobike</td>\n",
              "      <td>Wii</td>\n",
              "      <td>2008.0</td>\n",
              "      <td>Racing</td>\n",
              "      <td>Ubisoft</td>\n",
              "      <td>0.11</td>\n",
              "      <td>0.01</td>\n",
              "      <td>0.0</td>\n",
              "      <td>49.0</td>\n",
              "      <td>22.0</td>\n",
              "      <td>7.1</td>\n",
              "      <td>7.0</td>\n",
              "      <td>Left Field Productions</td>\n",
              "      <td>E10+</td>\n",
              "    </tr>\n",
              "    <tr>\n",
              "      <th>4</th>\n",
              "      <td>Cruise Ship Vacation Games</td>\n",
              "      <td>Wii</td>\n",
              "      <td>2009.0</td>\n",
              "      <td>Puzzle</td>\n",
              "      <td>Avanquest</td>\n",
              "      <td>0.12</td>\n",
              "      <td>0.00</td>\n",
              "      <td>0.0</td>\n",
              "      <td>NaN</td>\n",
              "      <td>NaN</td>\n",
              "      <td>tbd</td>\n",
              "      <td>NaN</td>\n",
              "      <td>Activision</td>\n",
              "      <td>E</td>\n",
              "    </tr>\n",
              "  </tbody>\n",
              "</table>\n",
              "</div>\n",
              "      <button class=\"colab-df-convert\" onclick=\"convertToInteractive('df-ada9bb44-29df-4732-8601-b4d2ee746e05')\"\n",
              "              title=\"Convert this dataframe to an interactive table.\"\n",
              "              style=\"display:none;\">\n",
              "        \n",
              "  <svg xmlns=\"http://www.w3.org/2000/svg\" height=\"24px\"viewBox=\"0 0 24 24\"\n",
              "       width=\"24px\">\n",
              "    <path d=\"M0 0h24v24H0V0z\" fill=\"none\"/>\n",
              "    <path d=\"M18.56 5.44l.94 2.06.94-2.06 2.06-.94-2.06-.94-.94-2.06-.94 2.06-2.06.94zm-11 1L8.5 8.5l.94-2.06 2.06-.94-2.06-.94L8.5 2.5l-.94 2.06-2.06.94zm10 10l.94 2.06.94-2.06 2.06-.94-2.06-.94-.94-2.06-.94 2.06-2.06.94z\"/><path d=\"M17.41 7.96l-1.37-1.37c-.4-.4-.92-.59-1.43-.59-.52 0-1.04.2-1.43.59L10.3 9.45l-7.72 7.72c-.78.78-.78 2.05 0 2.83L4 21.41c.39.39.9.59 1.41.59.51 0 1.02-.2 1.41-.59l7.78-7.78 2.81-2.81c.8-.78.8-2.07 0-2.86zM5.41 20L4 18.59l7.72-7.72 1.47 1.35L5.41 20z\"/>\n",
              "  </svg>\n",
              "      </button>\n",
              "      \n",
              "  <style>\n",
              "    .colab-df-container {\n",
              "      display:flex;\n",
              "      flex-wrap:wrap;\n",
              "      gap: 12px;\n",
              "    }\n",
              "\n",
              "    .colab-df-convert {\n",
              "      background-color: #E8F0FE;\n",
              "      border: none;\n",
              "      border-radius: 50%;\n",
              "      cursor: pointer;\n",
              "      display: none;\n",
              "      fill: #1967D2;\n",
              "      height: 32px;\n",
              "      padding: 0 0 0 0;\n",
              "      width: 32px;\n",
              "    }\n",
              "\n",
              "    .colab-df-convert:hover {\n",
              "      background-color: #E2EBFA;\n",
              "      box-shadow: 0px 1px 2px rgba(60, 64, 67, 0.3), 0px 1px 3px 1px rgba(60, 64, 67, 0.15);\n",
              "      fill: #174EA6;\n",
              "    }\n",
              "\n",
              "    [theme=dark] .colab-df-convert {\n",
              "      background-color: #3B4455;\n",
              "      fill: #D2E3FC;\n",
              "    }\n",
              "\n",
              "    [theme=dark] .colab-df-convert:hover {\n",
              "      background-color: #434B5C;\n",
              "      box-shadow: 0px 1px 3px 1px rgba(0, 0, 0, 0.15);\n",
              "      filter: drop-shadow(0px 1px 2px rgba(0, 0, 0, 0.3));\n",
              "      fill: #FFFFFF;\n",
              "    }\n",
              "  </style>\n",
              "\n",
              "      <script>\n",
              "        const buttonEl =\n",
              "          document.querySelector('#df-ada9bb44-29df-4732-8601-b4d2ee746e05 button.colab-df-convert');\n",
              "        buttonEl.style.display =\n",
              "          google.colab.kernel.accessAllowed ? 'block' : 'none';\n",
              "\n",
              "        async function convertToInteractive(key) {\n",
              "          const element = document.querySelector('#df-ada9bb44-29df-4732-8601-b4d2ee746e05');\n",
              "          const dataTable =\n",
              "            await google.colab.kernel.invokeFunction('convertToInteractive',\n",
              "                                                     [key], {});\n",
              "          if (!dataTable) return;\n",
              "\n",
              "          const docLinkHtml = 'Like what you see? Visit the ' +\n",
              "            '<a target=\"_blank\" href=https://colab.research.google.com/notebooks/data_table.ipynb>data table notebook</a>'\n",
              "            + ' to learn more about interactive tables.';\n",
              "          element.innerHTML = '';\n",
              "          dataTable['output_type'] = 'display_data';\n",
              "          await google.colab.output.renderOutput(dataTable, element);\n",
              "          const docLink = document.createElement('div');\n",
              "          docLink.innerHTML = docLinkHtml;\n",
              "          element.appendChild(docLink);\n",
              "        }\n",
              "      </script>\n",
              "    </div>\n",
              "  </div>\n",
              "  "
            ]
          },
          "metadata": {},
          "execution_count": 7
        }
      ]
    },
    {
      "cell_type": "code",
      "source": [
        "# Checking the shape of the dataset\n",
        "test_df.shape"
      ],
      "metadata": {
        "colab": {
          "base_uri": "https://localhost:8080/"
        },
        "id": "VVe1PSY8EC6J",
        "outputId": "acb1b207-6776-4920-9f4c-5a0135baa54e"
      },
      "execution_count": 8,
      "outputs": [
        {
          "output_type": "execute_result",
          "data": {
            "text/plain": [
              "(2143, 14)"
            ]
          },
          "metadata": {},
          "execution_count": 8
        }
      ]
    },
    {
      "cell_type": "code",
      "source": [
        "test_df.info()"
      ],
      "metadata": {
        "colab": {
          "base_uri": "https://localhost:8080/"
        },
        "id": "S6-nQUReEF1C",
        "outputId": "f11f17b1-3d53-47c2-8482-502085ceee17"
      },
      "execution_count": 9,
      "outputs": [
        {
          "output_type": "stream",
          "name": "stdout",
          "text": [
            "<class 'pandas.core.frame.DataFrame'>\n",
            "RangeIndex: 2143 entries, 0 to 2142\n",
            "Data columns (total 14 columns):\n",
            " #   Column           Non-Null Count  Dtype  \n",
            "---  ------           --------------  -----  \n",
            " 0   Name             2143 non-null   object \n",
            " 1   Platform         2143 non-null   object \n",
            " 2   Year_of_Release  2106 non-null   float64\n",
            " 3   Genre            2143 non-null   object \n",
            " 4   Publisher        2138 non-null   object \n",
            " 5   NA_Sales         2143 non-null   float64\n",
            " 6   EU_Sales         2143 non-null   float64\n",
            " 7   JP_Sales         2143 non-null   float64\n",
            " 8   Critic_Score     920 non-null    float64\n",
            " 9   Critic_Count     920 non-null    float64\n",
            " 10  User_Score       1255 non-null   object \n",
            " 11  User_Count       794 non-null    float64\n",
            " 12  Developer        1267 non-null   object \n",
            " 13  Rating           1246 non-null   object \n",
            "dtypes: float64(7), object(7)\n",
            "memory usage: 234.5+ KB\n"
          ]
        }
      ]
    },
    {
      "cell_type": "code",
      "source": [
        "# checking for number of missing values in Test.csv\n",
        "test_df.isnull().sum()\n"
      ],
      "metadata": {
        "colab": {
          "base_uri": "https://localhost:8080/"
        },
        "id": "OFdnauS7ak4y",
        "outputId": "fe4dc42f-0753-421e-9cf8-c43b7a312b5b"
      },
      "execution_count": 10,
      "outputs": [
        {
          "output_type": "execute_result",
          "data": {
            "text/plain": [
              "Name                  0\n",
              "Platform              0\n",
              "Year_of_Release      37\n",
              "Genre                 0\n",
              "Publisher             5\n",
              "NA_Sales              0\n",
              "EU_Sales              0\n",
              "JP_Sales              0\n",
              "Critic_Score       1223\n",
              "Critic_Count       1223\n",
              "User_Score          888\n",
              "User_Count         1349\n",
              "Developer           876\n",
              "Rating              897\n",
              "dtype: int64"
            ]
          },
          "metadata": {},
          "execution_count": 10
        }
      ]
    },
    {
      "cell_type": "markdown",
      "source": [
        "### **Handling Missing values for Train.csv**\n",
        " Let us replace the missing values in every attribute\n",
        "\n"
      ],
      "metadata": {
        "id": "xOJ5BaG-6ANp"
      }
    },
    {
      "cell_type": "code",
      "source": [
        "train_df.isnull().sum()"
      ],
      "metadata": {
        "colab": {
          "base_uri": "https://localhost:8080/"
        },
        "id": "-uZs5ADpO7cM",
        "outputId": "74689dfa-4d55-44cc-c0e8-fe277ed5510b"
      },
      "execution_count": 11,
      "outputs": [
        {
          "output_type": "execute_result",
          "data": {
            "text/plain": [
              "Name                  2\n",
              "Platform              0\n",
              "Year_of_Release     232\n",
              "Genre                 2\n",
              "Publisher            49\n",
              "NA_Sales              0\n",
              "EU_Sales              0\n",
              "JP_Sales              0\n",
              "Critic_Score       7359\n",
              "Critic_Count       7359\n",
              "User_Score         5816\n",
              "User_Count         7780\n",
              "Developer          5747\n",
              "Rating             5872\n",
              "Global_Sales          0\n",
              "dtype: int64"
            ]
          },
          "metadata": {},
          "execution_count": 11
        }
      ]
    },
    {
      "cell_type": "code",
      "source": [
        "train_df.isna().mean().round(4) * 100"
      ],
      "metadata": {
        "colab": {
          "base_uri": "https://localhost:8080/"
        },
        "id": "5AMvpMrZP5V2",
        "outputId": "805bf859-18ff-493a-8a76-af27e2ad9729"
      },
      "execution_count": 12,
      "outputs": [
        {
          "output_type": "execute_result",
          "data": {
            "text/plain": [
              "Name                0.01\n",
              "Platform            0.00\n",
              "Year_of_Release     1.59\n",
              "Genre               0.01\n",
              "Publisher           0.34\n",
              "NA_Sales            0.00\n",
              "EU_Sales            0.00\n",
              "JP_Sales            0.00\n",
              "Critic_Score       50.49\n",
              "Critic_Count       50.49\n",
              "User_Score         39.90\n",
              "User_Count         53.38\n",
              "Developer          39.43\n",
              "Rating             40.29\n",
              "Global_Sales        0.00\n",
              "dtype: float64"
            ]
          },
          "metadata": {},
          "execution_count": 12
        }
      ]
    },
    {
      "cell_type": "code",
      "source": [
        "# The atrribute 'Year_of_Release' has  1.59 percent of null values, which is replaced with median value\n",
        "median_value=train_df['Year_of_Release'].median()\n",
        "train_df['Year_of_Release'].fillna(value=median_value,inplace=True)"
      ],
      "metadata": {
        "id": "9CaFiIYZ8DkS"
      },
      "execution_count": 13,
      "outputs": []
    },
    {
      "cell_type": "code",
      "source": [
        "train_df.isnull().sum()"
      ],
      "metadata": {
        "colab": {
          "base_uri": "https://localhost:8080/"
        },
        "id": "SuaO6Rru84ZU",
        "outputId": "776db621-47f1-4156-d91b-22228c9b764b"
      },
      "execution_count": 14,
      "outputs": [
        {
          "output_type": "execute_result",
          "data": {
            "text/plain": [
              "Name                  2\n",
              "Platform              0\n",
              "Year_of_Release       0\n",
              "Genre                 2\n",
              "Publisher            49\n",
              "NA_Sales              0\n",
              "EU_Sales              0\n",
              "JP_Sales              0\n",
              "Critic_Score       7359\n",
              "Critic_Count       7359\n",
              "User_Score         5816\n",
              "User_Count         7780\n",
              "Developer          5747\n",
              "Rating             5872\n",
              "Global_Sales          0\n",
              "dtype: int64"
            ]
          },
          "metadata": {},
          "execution_count": 14
        }
      ]
    },
    {
      "cell_type": "code",
      "source": [
        "# Similarly, the attribute 'Critic_Score' has around  50.49 percent of missing value which is replaced with mean \n",
        "mean_value=train_df['Critic_Score'].mean()\n",
        "train_df['Critic_Score'].fillna(value=mean_value,inplace=True)"
      ],
      "metadata": {
        "id": "SS7MK8y79Orb"
      },
      "execution_count": 15,
      "outputs": []
    },
    {
      "cell_type": "code",
      "source": [
        "# Similarly, the attribute 'Critic_Count' has around  50.49 percent of missing value which is replaced with mean\n",
        "mean_value=train_df['Critic_Count'].mean()\n",
        "train_df['Critic_Count'].fillna(value=mean_value,inplace=True)"
      ],
      "metadata": {
        "id": "sAHVR7bb9YX5"
      },
      "execution_count": 16,
      "outputs": []
    },
    {
      "cell_type": "code",
      "source": [
        "#  The attribute 'User_Score' is converted from object to numerical datatype for further predictions\n",
        "train_df['User_Score'] = pd.to_numeric(train_df['User_Score'],errors = 'coerce')"
      ],
      "metadata": {
        "id": "VoautDEu-PHr"
      },
      "execution_count": 17,
      "outputs": []
    },
    {
      "cell_type": "code",
      "source": [
        "mean_value=train_df['User_Count'].mean()\n",
        "train_df['User_Count'].fillna(value=mean_value,inplace=True)"
      ],
      "metadata": {
        "id": "rNY08UnE-byh"
      },
      "execution_count": 18,
      "outputs": []
    },
    {
      "cell_type": "code",
      "source": [
        "mean_value=train_df['User_Score'].mean()\n",
        "train_df['User_Score'].fillna(value=mean_value,inplace=True)"
      ],
      "metadata": {
        "id": "O6LP-q74-ca5"
      },
      "execution_count": 19,
      "outputs": []
    },
    {
      "cell_type": "code",
      "source": [
        "train_df.isnull().sum()"
      ],
      "metadata": {
        "colab": {
          "base_uri": "https://localhost:8080/"
        },
        "id": "MhC8cefo-pKx",
        "outputId": "6cff13d0-16da-4023-84b3-ec722beeca44"
      },
      "execution_count": 20,
      "outputs": [
        {
          "output_type": "execute_result",
          "data": {
            "text/plain": [
              "Name                  2\n",
              "Platform              0\n",
              "Year_of_Release       0\n",
              "Genre                 2\n",
              "Publisher            49\n",
              "NA_Sales              0\n",
              "EU_Sales              0\n",
              "JP_Sales              0\n",
              "Critic_Score          0\n",
              "Critic_Count          0\n",
              "User_Score            0\n",
              "User_Count            0\n",
              "Developer          5747\n",
              "Rating             5872\n",
              "Global_Sales          0\n",
              "dtype: int64"
            ]
          },
          "metadata": {},
          "execution_count": 20
        }
      ]
    },
    {
      "cell_type": "code",
      "source": [
        "#Replacing the missing values of categorical columns with mode \n",
        "train_df=train_df.fillna(train_df.mode().iloc[0])         "
      ],
      "metadata": {
        "id": "ATfOWoVf-2kx"
      },
      "execution_count": 21,
      "outputs": []
    },
    {
      "cell_type": "code",
      "source": [
        "train_df.isnull().sum()    # Missing values replaced"
      ],
      "metadata": {
        "colab": {
          "base_uri": "https://localhost:8080/"
        },
        "id": "SPV4FMLf--XD",
        "outputId": "206cf699-f0aa-455e-dc47-7abf2968445a"
      },
      "execution_count": 22,
      "outputs": [
        {
          "output_type": "execute_result",
          "data": {
            "text/plain": [
              "Name               0\n",
              "Platform           0\n",
              "Year_of_Release    0\n",
              "Genre              0\n",
              "Publisher          0\n",
              "NA_Sales           0\n",
              "EU_Sales           0\n",
              "JP_Sales           0\n",
              "Critic_Score       0\n",
              "Critic_Count       0\n",
              "User_Score         0\n",
              "User_Count         0\n",
              "Developer          0\n",
              "Rating             0\n",
              "Global_Sales       0\n",
              "dtype: int64"
            ]
          },
          "metadata": {},
          "execution_count": 22
        }
      ]
    },
    {
      "cell_type": "markdown",
      "source": [
        "## Handling Missing values  - Test data\n"
      ],
      "metadata": {
        "id": "uGmVXEC8f1uh"
      }
    },
    {
      "cell_type": "code",
      "source": [
        "test_df.isnull().sum()"
      ],
      "metadata": {
        "colab": {
          "base_uri": "https://localhost:8080/"
        },
        "id": "3yW9Cmo3RcP9",
        "outputId": "77799ad8-5d04-433b-b37b-83334f1e4468"
      },
      "execution_count": 23,
      "outputs": [
        {
          "output_type": "execute_result",
          "data": {
            "text/plain": [
              "Name                  0\n",
              "Platform              0\n",
              "Year_of_Release      37\n",
              "Genre                 0\n",
              "Publisher             5\n",
              "NA_Sales              0\n",
              "EU_Sales              0\n",
              "JP_Sales              0\n",
              "Critic_Score       1223\n",
              "Critic_Count       1223\n",
              "User_Score          888\n",
              "User_Count         1349\n",
              "Developer           876\n",
              "Rating              897\n",
              "dtype: int64"
            ]
          },
          "metadata": {},
          "execution_count": 23
        }
      ]
    },
    {
      "cell_type": "code",
      "source": [
        "test_df.isna().mean().round(4) * 100"
      ],
      "metadata": {
        "colab": {
          "base_uri": "https://localhost:8080/"
        },
        "id": "hEpdZQPURpBC",
        "outputId": "c8e467ca-a7e1-48c1-e53a-f9891e156ac8"
      },
      "execution_count": 24,
      "outputs": [
        {
          "output_type": "execute_result",
          "data": {
            "text/plain": [
              "Name                0.00\n",
              "Platform            0.00\n",
              "Year_of_Release     1.73\n",
              "Genre               0.00\n",
              "Publisher           0.23\n",
              "NA_Sales            0.00\n",
              "EU_Sales            0.00\n",
              "JP_Sales            0.00\n",
              "Critic_Score       57.07\n",
              "Critic_Count       57.07\n",
              "User_Score         41.44\n",
              "User_Count         62.95\n",
              "Developer          40.88\n",
              "Rating             41.86\n",
              "dtype: float64"
            ]
          },
          "metadata": {},
          "execution_count": 24
        }
      ]
    },
    {
      "cell_type": "code",
      "source": [
        "# The atrribute 'Year_of_Release' has  1.73 percent of null values, which is replaced with median value\n",
        "median_value=test_df['Year_of_Release'].median()\n",
        "test_df['Year_of_Release'].fillna(value=median_value,inplace=True)"
      ],
      "metadata": {
        "id": "IWNFC7MFf6QA"
      },
      "execution_count": 25,
      "outputs": []
    },
    {
      "cell_type": "code",
      "source": [
        "# The atrribute 'Critic_Score' has  57.07  percent of null values, which is replaced with mean value\n",
        "mean_value=test_df['Critic_Score'].mean()\n",
        "test_df['Critic_Score'].fillna(value=mean_value,inplace=True)"
      ],
      "metadata": {
        "id": "vZeBg05WgQV_"
      },
      "execution_count": 26,
      "outputs": []
    },
    {
      "cell_type": "code",
      "source": [
        "# The atrribute 'Critic_Count' has  57.07  percent of null values, which is replaced with mean value\n",
        "mean_value=test_df['Critic_Count'].mean()\n",
        "test_df['Critic_Count'].fillna(value=mean_value,inplace=True)"
      ],
      "metadata": {
        "id": "WJLE51oMgTGn"
      },
      "execution_count": 27,
      "outputs": []
    },
    {
      "cell_type": "code",
      "source": [
        "test_df['User_Score'] = pd.to_numeric(test_df['User_Score'],errors = 'coerce')"
      ],
      "metadata": {
        "id": "X1DN0u4dRIJe"
      },
      "execution_count": 28,
      "outputs": []
    },
    {
      "cell_type": "code",
      "source": [
        "test_df.isnull().sum()"
      ],
      "metadata": {
        "colab": {
          "base_uri": "https://localhost:8080/"
        },
        "id": "xNvXRduz_DAQ",
        "outputId": "8844a1e3-d318-4308-e4b6-cb6de7da7425"
      },
      "execution_count": 29,
      "outputs": [
        {
          "output_type": "execute_result",
          "data": {
            "text/plain": [
              "Name                  0\n",
              "Platform              0\n",
              "Year_of_Release       0\n",
              "Genre                 0\n",
              "Publisher             5\n",
              "NA_Sales              0\n",
              "EU_Sales              0\n",
              "JP_Sales              0\n",
              "Critic_Score          0\n",
              "Critic_Count          0\n",
              "User_Score         1349\n",
              "User_Count         1349\n",
              "Developer           876\n",
              "Rating              897\n",
              "dtype: int64"
            ]
          },
          "metadata": {},
          "execution_count": 29
        }
      ]
    },
    {
      "cell_type": "code",
      "source": [
        "# The atrribute 'User_Count' has 62.95  percent of null values, which is replaced with mean value\n",
        "mean_value=test_df['User_Count'].mean()\n",
        "test_df['User_Count'].fillna(value=mean_value,inplace=True)"
      ],
      "metadata": {
        "id": "R69Nt_sQglv2"
      },
      "execution_count": 30,
      "outputs": []
    },
    {
      "cell_type": "code",
      "source": [
        "# The atrribute 'User_Score' has 41.44 percent of null values, which is replaced with mean value\n",
        "mean_value=test_df['User_Score'].mean()\n",
        "test_df['User_Score'].fillna(value=mean_value,inplace=True)"
      ],
      "metadata": {
        "id": "RBXeuJDygoMm"
      },
      "execution_count": 31,
      "outputs": []
    },
    {
      "cell_type": "code",
      "source": [
        "#replacing all the categorical values\n",
        "test_df=test_df.fillna(test_df.mode().iloc[0])       "
      ],
      "metadata": {
        "id": "JkOV5y8agyfR"
      },
      "execution_count": 32,
      "outputs": []
    },
    {
      "cell_type": "code",
      "source": [
        "train_df.dtypes"
      ],
      "metadata": {
        "colab": {
          "base_uri": "https://localhost:8080/"
        },
        "id": "BYaJV0K36CSN",
        "outputId": "d25a6145-5f52-4263-eb33-36173c9f0d4d"
      },
      "execution_count": 33,
      "outputs": [
        {
          "output_type": "execute_result",
          "data": {
            "text/plain": [
              "Name                object\n",
              "Platform            object\n",
              "Year_of_Release    float64\n",
              "Genre               object\n",
              "Publisher           object\n",
              "NA_Sales           float64\n",
              "EU_Sales           float64\n",
              "JP_Sales           float64\n",
              "Critic_Score       float64\n",
              "Critic_Count       float64\n",
              "User_Score         float64\n",
              "User_Count         float64\n",
              "Developer           object\n",
              "Rating              object\n",
              "Global_Sales       float64\n",
              "dtype: object"
            ]
          },
          "metadata": {},
          "execution_count": 33
        }
      ]
    },
    {
      "cell_type": "markdown",
      "source": [
        "## **Data Visualization**"
      ],
      "metadata": {
        "id": "qae3lrLVECyx"
      }
    },
    {
      "cell_type": "code",
      "source": [
        "plt.figure(figsize = (14,10))\n",
        "\n",
        "sns.heatmap(train_df.corr(),annot=True)\n",
        "plt.show()"
      ],
      "metadata": {
        "colab": {
          "base_uri": "https://localhost:8080/",
          "height": 596
        },
        "id": "_JgS1AheEGRR",
        "outputId": "43c27809-60d3-4812-9f73-981cf4567ef3"
      },
      "execution_count": 34,
      "outputs": [
        {
          "output_type": "display_data",
          "data": {
            "text/plain": [
              "<Figure size 1008x720 with 2 Axes>"
            ],
            "image/png": "[encoded data removed]"
          },
          "metadata": {
            "needs_background": "light"
          }
        }
      ]
    },
    {
      "cell_type": "markdown",
      "source": [
        "**Outliers detection**\n",
        "\n"
      ],
      "metadata": {
        "id": "G6b_d62RUZrD"
      }
    },
    {
      "cell_type": "code",
      "source": [
        "sns.set_theme(style=\"darkgrid\")\n",
        "fig, ((ax1, ax2), (ax3, ax4),(ax5,ax6),(ax7,ax8))= plt.subplots(nrows=4, ncols=2, figsize=(16,16))\n",
        "sns.boxplot(data=train_df,x=\"Year_of_Release\",ax=ax1)\n",
        "sns.boxplot(data=train_df,x=\"NA_Sales\",ax=ax2)\n",
        "sns.boxplot(data=train_df,x=\"EU_Sales\",ax=ax3)\n",
        "sns.boxplot(data=train_df,x=\"JP_Sales\",ax=ax4)\n",
        "sns.boxplot(data=train_df,x=\"User_Score\",ax=ax5)\n",
        "sns.boxplot(data=train_df,x=\"User_Count\",ax=ax6)\n",
        "sns.boxplot(data=train_df,x=\"Global_Sales\",ax=ax7)\n",
        "sns.boxplot(data=train_df,x=\"Critic_Score\",ax=ax8)\n"
      ],
      "metadata": {
        "colab": {
          "base_uri": "https://localhost:8080/",
          "height": 954
        },
        "id": "RTg6KTXbUUF0",
        "outputId": "772c6c19-847c-4db4-aac4-62cc2b0bd08f"
      },
      "execution_count": 35,
      "outputs": [
        {
          "output_type": "execute_result",
          "data": {
            "text/plain": [
              "<matplotlib.axes._subplots.AxesSubplot at 0x7faa839d0910>"
            ]
          },
          "metadata": {},
          "execution_count": 35
        },
        {
          "output_type": "display_data",
          "data": {
            "text/plain": [
              "<Figure size 1152x1152 with 8 Axes>"
            ],
            "image/png": "[encoded data removed]"
          },
          "metadata": {}
        }
      ]
    },
    {
      "cell_type": "markdown",
      "source": [
        "From the above Boxplots it is clearly evident that there are lot of outliers in the Train.csv dataset"
      ],
      "metadata": {
        "id": "mza_G6EEUcL6"
      }
    },
    {
      "cell_type": "markdown",
      "source": [
        "**Top Grossing Videogame Genre**"
      ],
      "metadata": {
        "id": "OZDmfDhnTv9a"
      }
    },
    {
      "cell_type": "code",
      "source": [
        "sns.set_style(\"darkgrid\") #setting the style\n",
        "sns.set_context(\"notebook\")\n",
        "plt.figure(figsize=(13,8))\n",
        "sns.barplot(x='Genre',y='Global_Sales',data=train_df,palette='crest')"
      ],
      "metadata": {
        "colab": {
          "base_uri": "https://localhost:8080/",
          "height": 519
        },
        "id": "vFQXBv6vUyLY",
        "outputId": "2e0dc771-3432-4df5-f834-c7ed89fa176e"
      },
      "execution_count": 36,
      "outputs": [
        {
          "output_type": "execute_result",
          "data": {
            "text/plain": [
              "<matplotlib.axes._subplots.AxesSubplot at 0x7faa839fce50>"
            ]
          },
          "metadata": {},
          "execution_count": 36
        },
        {
          "output_type": "display_data",
          "data": {
            "text/plain": [
              "<Figure size 936x576 with 1 Axes>"
            ],
            "image/png": "[encoded data removed]"
          },
          "metadata": {}
        }
      ]
    },
    {
      "cell_type": "markdown",
      "source": [
        "From the above plot it is evident that Platform kind of videogames has the highest Global sales compared to other Genre"
      ],
      "metadata": {
        "id": "OWj--qliUDyS"
      }
    },
    {
      "cell_type": "markdown",
      "source": [
        "**Most sold video game**"
      ],
      "metadata": {
        "id": "e-nltkrWVRYy"
      }
    },
    {
      "cell_type": "code",
      "source": [
        "most_sold=train_df.sort_values('Global_Sales',ascending=False)[:5]\n",
        "#Sorts the views column in Descending order,the top 5 fields are taken stored in most_sold dataframe\n",
        "most_sold[['Publisher','Genre','Global_Sales','Name']]\n",
        "# As we can see that the video \"Nintendo\" Publisher  has the highest "
      ],
      "metadata": {
        "colab": {
          "base_uri": "https://localhost:8080/",
          "height": 206
        },
        "id": "X6r1QKWa4d6S",
        "outputId": "7e234dcd-6a9b-4851-e765-fcd1cb832450"
      },
      "execution_count": 37,
      "outputs": [
        {
          "output_type": "execute_result",
          "data": {
            "text/plain": [
              "  Publisher         Genre  Global_Sales                      Name\n",
              "0  Nintendo        Sports         82.53                Wii Sports\n",
              "1  Nintendo      Platform         40.24         Super Mario Bros.\n",
              "2  Nintendo        Racing         35.52            Mario Kart Wii\n",
              "3  Nintendo        Sports         32.77         Wii Sports Resort\n",
              "4  Nintendo  Role-Playing         31.37  Pokemon Red/Pokemon Blue"
            ],
            "text/html": [
              "\n",
              "  <div id=\"df-01970f0e-6300-4bb6-ab08-89a2525189f5\">\n",
              "    <div class=\"colab-df-container\">\n",
              "      <div>\n",
              "<style scoped>\n",
              "    .dataframe tbody tr th:only-of-type {\n",
              "        vertical-align: middle;\n",
              "    }\n",
              "\n",
              "    .dataframe tbody tr th {\n",
              "        vertical-align: top;\n",
              "    }\n",
              "\n",
              "    .dataframe thead th {\n",
              "        text-align: right;\n",
              "    }\n",
              "</style>\n",
              "<table border=\"1\" class=\"dataframe\">\n",
              "  <thead>\n",
              "    <tr style=\"text-align: right;\">\n",
              "      <th></th>\n",
              "      <th>Publisher</th>\n",
              "      <th>Genre</th>\n",
              "      <th>Global_Sales</th>\n",
              "      <th>Name</th>\n",
              "    </tr>\n",
              "  </thead>\n",
              "  <tbody>\n",
              "    <tr>\n",
              "      <th>0</th>\n",
              "      <td>Nintendo</td>\n",
              "      <td>Sports</td>\n",
              "      <td>82.53</td>\n",
              "      <td>Wii Sports</td>\n",
              "    </tr>\n",
              "    <tr>\n",
              "      <th>1</th>\n",
              "      <td>Nintendo</td>\n",
              "      <td>Platform</td>\n",
              "      <td>40.24</td>\n",
              "      <td>Super Mario Bros.</td>\n",
              "    </tr>\n",
              "    <tr>\n",
              "      <th>2</th>\n",
              "      <td>Nintendo</td>\n",
              "      <td>Racing</td>\n",
              "      <td>35.52</td>\n",
              "      <td>Mario Kart Wii</td>\n",
              "    </tr>\n",
              "    <tr>\n",
              "      <th>3</th>\n",
              "      <td>Nintendo</td>\n",
              "      <td>Sports</td>\n",
              "      <td>32.77</td>\n",
              "      <td>Wii Sports Resort</td>\n",
              "    </tr>\n",
              "    <tr>\n",
              "      <th>4</th>\n",
              "      <td>Nintendo</td>\n",
              "      <td>Role-Playing</td>\n",
              "      <td>31.37</td>\n",
              "      <td>Pokemon Red/Pokemon Blue</td>\n",
              "    </tr>\n",
              "  </tbody>\n",
              "</table>\n",
              "</div>\n",
              "      <button class=\"colab-df-convert\" onclick=\"convertToInteractive('df-01970f0e-6300-4bb6-ab08-89a2525189f5')\"\n",
              "              title=\"Convert this dataframe to an interactive table.\"\n",
              "              style=\"display:none;\">\n",
              "        \n",
              "  <svg xmlns=\"http://www.w3.org/2000/svg\" height=\"24px\"viewBox=\"0 0 24 24\"\n",
              "       width=\"24px\">\n",
              "    <path d=\"M0 0h24v24H0V0z\" fill=\"none\"/>\n",
              "    <path d=\"M18.56 5.44l.94 2.06.94-2.06 2.06-.94-2.06-.94-.94-2.06-.94 2.06-2.06.94zm-11 1L8.5 8.5l.94-2.06 2.06-.94-2.06-.94L8.5 2.5l-.94 2.06-2.06.94zm10 10l.94 2.06.94-2.06 2.06-.94-2.06-.94-.94-2.06-.94 2.06-2.06.94z\"/><path d=\"M17.41 7.96l-1.37-1.37c-.4-.4-.92-.59-1.43-.59-.52 0-1.04.2-1.43.59L10.3 9.45l-7.72 7.72c-.78.78-.78 2.05 0 2.83L4 21.41c.39.39.9.59 1.41.59.51 0 1.02-.2 1.41-.59l7.78-7.78 2.81-2.81c.8-.78.8-2.07 0-2.86zM5.41 20L4 18.59l7.72-7.72 1.47 1.35L5.41 20z\"/>\n",
              "  </svg>\n",
              "      </button>\n",
              "      \n",
              "  <style>\n",
              "    .colab-df-container {\n",
              "      display:flex;\n",
              "      flex-wrap:wrap;\n",
              "      gap: 12px;\n",
              "    }\n",
              "\n",
              "    .colab-df-convert {\n",
              "      background-color: #E8F0FE;\n",
              "      border: none;\n",
              "      border-radius: 50%;\n",
              "      cursor: pointer;\n",
              "      display: none;\n",
              "      fill: #1967D2;\n",
              "      height: 32px;\n",
              "      padding: 0 0 0 0;\n",
              "      width: 32px;\n",
              "    }\n",
              "\n",
              "    .colab-df-convert:hover {\n",
              "      background-color: #E2EBFA;\n",
              "      box-shadow: 0px 1px 2px rgba(60, 64, 67, 0.3), 0px 1px 3px 1px rgba(60, 64, 67, 0.15);\n",
              "      fill: #174EA6;\n",
              "    }\n",
              "\n",
              "    [theme=dark] .colab-df-convert {\n",
              "      background-color: #3B4455;\n",
              "      fill: #D2E3FC;\n",
              "    }\n",
              "\n",
              "    [theme=dark] .colab-df-convert:hover {\n",
              "      background-color: #434B5C;\n",
              "      box-shadow: 0px 1px 3px 1px rgba(0, 0, 0, 0.15);\n",
              "      filter: drop-shadow(0px 1px 2px rgba(0, 0, 0, 0.3));\n",
              "      fill: #FFFFFF;\n",
              "    }\n",
              "  </style>\n",
              "\n",
              "      <script>\n",
              "        const buttonEl =\n",
              "          document.querySelector('#df-01970f0e-6300-4bb6-ab08-89a2525189f5 button.colab-df-convert');\n",
              "        buttonEl.style.display =\n",
              "          google.colab.kernel.accessAllowed ? 'block' : 'none';\n",
              "\n",
              "        async function convertToInteractive(key) {\n",
              "          const element = document.querySelector('#df-01970f0e-6300-4bb6-ab08-89a2525189f5');\n",
              "          const dataTable =\n",
              "            await google.colab.kernel.invokeFunction('convertToInteractive',\n",
              "                                                     [key], {});\n",
              "          if (!dataTable) return;\n",
              "\n",
              "          const docLinkHtml = 'Like what you see? Visit the ' +\n",
              "            '<a target=\"_blank\" href=https://colab.research.google.com/notebooks/data_table.ipynb>data table notebook</a>'\n",
              "            + ' to learn more about interactive tables.';\n",
              "          element.innerHTML = '';\n",
              "          dataTable['output_type'] = 'display_data';\n",
              "          await google.colab.output.renderOutput(dataTable, element);\n",
              "          const docLink = document.createElement('div');\n",
              "          docLink.innerHTML = docLinkHtml;\n",
              "          element.appendChild(docLink);\n",
              "        }\n",
              "      </script>\n",
              "    </div>\n",
              "  </div>\n",
              "  "
            ]
          },
          "metadata": {},
          "execution_count": 37
        }
      ]
    },
    {
      "cell_type": "markdown",
      "source": [
        "**Visualizing Most sold video game**"
      ],
      "metadata": {
        "id": "QPqUA4w9VZY5"
      }
    },
    {
      "cell_type": "code",
      "source": [
        "sns.set_style(\"darkgrid\") #setting the style\n",
        "sns.set_context(\"notebook\")\n",
        "plt.figure(figsize=(13,8))\n",
        "sns.barplot(x='Name',y=\"Global_Sales\",hue=\"Publisher\",data=most_sold,palette=\"crest\")  # using seaborn Library \n",
        "plt.xlabel(\"Game_Name\")\n",
        "plt.ylabel(\"Global_Sales\")\n",
        "plt.title(\"Most sold video game\")"
      ],
      "metadata": {
        "colab": {
          "base_uri": "https://localhost:8080/",
          "height": 535
        },
        "id": "lEjBAcJpvgYj",
        "outputId": "dbf0e78a-6de9-41c3-c8ba-2d0cabbc5f27"
      },
      "execution_count": 38,
      "outputs": [
        {
          "output_type": "execute_result",
          "data": {
            "text/plain": [
              "Text(0.5, 1.0, 'Most sold video game')"
            ]
          },
          "metadata": {},
          "execution_count": 38
        },
        {
          "output_type": "display_data",
          "data": {
            "text/plain": [
              "<Figure size 936x576 with 1 Axes>"
            ],
            "image/png": "[encoded data removed]"
          },
          "metadata": {}
        }
      ]
    },
    {
      "cell_type": "markdown",
      "source": [
        "From the above plot, **Wii sports** game is top sold game of all year which was published by Nintendo video game company "
      ],
      "metadata": {
        "id": "LuK_4vmPVfdA"
      }
    },
    {
      "cell_type": "markdown",
      "source": [
        "As, Machine learning models require all input and output variables to be in numeric format.Hence the categorical values are converted to numerical datatype.By performing Label Encoding we can convert categorical to numerical datatypes"
      ],
      "metadata": {
        "id": "M3r4eluDV3sM"
      }
    },
    {
      "cell_type": "code",
      "source": [
        "# Label Encoding on both train and test csv files\n",
        "label_encoder=preprocessing.LabelEncoder()\n",
        "train_df['Rating']= label_encoder.fit_transform(train_df['Rating'])"
      ],
      "metadata": {
        "id": "eEdOn217BxGh"
      },
      "execution_count": 39,
      "outputs": []
    },
    {
      "cell_type": "code",
      "source": [
        "label_encoder=preprocessing.LabelEncoder()\n",
        "train_df['Developer']= label_encoder.fit_transform(train_df['Developer'])"
      ],
      "metadata": {
        "id": "uMiG-DLmhFkQ"
      },
      "execution_count": 40,
      "outputs": []
    },
    {
      "cell_type": "code",
      "source": [
        "train_df['Genre'].value_counts()"
      ],
      "metadata": {
        "colab": {
          "base_uri": "https://localhost:8080/"
        },
        "id": "zcNAVSYJ74MD",
        "outputId": "ddbfe435-038c-4fbb-bf40-cd7c880c0836"
      },
      "execution_count": 41,
      "outputs": [
        {
          "output_type": "execute_result",
          "data": {
            "text/plain": [
              "Action          2976\n",
              "Sports          2078\n",
              "Misc            1503\n",
              "Role-Playing    1300\n",
              "Shooter         1171\n",
              "Adventure       1127\n",
              "Racing          1084\n",
              "Platform         786\n",
              "Simulation       753\n",
              "Fighting         728\n",
              "Strategy         582\n",
              "Puzzle           488\n",
              "Name: Genre, dtype: int64"
            ]
          },
          "metadata": {},
          "execution_count": 41
        }
      ]
    },
    {
      "cell_type": "code",
      "source": [
        "label_encoder=preprocessing.LabelEncoder()\n",
        "train_df['Genre']= label_encoder.fit_transform(train_df['Genre'])"
      ],
      "metadata": {
        "id": "-Hfvw_Pu79n5"
      },
      "execution_count": 42,
      "outputs": []
    },
    {
      "cell_type": "code",
      "source": [
        "label_encoder=preprocessing.LabelEncoder()\n",
        "test_df['Rating']= label_encoder.fit_transform(test_df['Rating'])"
      ],
      "metadata": {
        "id": "ubwhJwnj9KOZ"
      },
      "execution_count": 43,
      "outputs": []
    },
    {
      "cell_type": "code",
      "source": [
        "label_encoder=preprocessing.LabelEncoder()\n",
        "test_df['Genre']= label_encoder.fit_transform(test_df['Genre'])"
      ],
      "metadata": {
        "id": "Rsj5Z6S99M-5"
      },
      "execution_count": 44,
      "outputs": []
    },
    {
      "cell_type": "code",
      "source": [
        "label_encoder=preprocessing.LabelEncoder()\n",
        "test_df['Developer']= label_encoder.fit_transform(test_df['Developer'])"
      ],
      "metadata": {
        "id": "CLmfdgfc9Rk5"
      },
      "execution_count": 45,
      "outputs": []
    },
    {
      "cell_type": "code",
      "source": [
        "#Finding correlation among the variables\n",
        "train_df.corr()"
      ],
      "metadata": {
        "colab": {
          "base_uri": "https://localhost:8080/",
          "height": 490
        },
        "id": "nvOUa3dYCCzZ",
        "outputId": "353b7a3c-88b4-4b76-a116-314dd347693d"
      },
      "execution_count": 46,
      "outputs": [
        {
          "output_type": "execute_result",
          "data": {
            "text/plain": [
              "                 Year_of_Release     Genre  NA_Sales  EU_Sales  JP_Sales  \\\n",
              "Year_of_Release         1.000000 -0.122394 -0.095565  0.006070 -0.176927   \n",
              "Genre                  -0.122394  1.000000  0.020473  0.020495  0.033758   \n",
              "NA_Sales               -0.095565  0.020473  1.000000  0.763139  0.446972   \n",
              "EU_Sales                0.006070  0.020495  0.763139  1.000000  0.432235   \n",
              "JP_Sales               -0.176927  0.033758  0.446972  0.432235  1.000000   \n",
              "Critic_Score            0.005473  0.104604  0.186719  0.194882  0.091767   \n",
              "Critic_Count            0.116242 -0.009090  0.223509  0.240464  0.106054   \n",
              "User_Score             -0.137240  0.007396  0.066391  0.046775  0.077842   \n",
              "User_Count              0.090086  0.004222  0.190833  0.252379  0.044505   \n",
              "Developer              -0.141434 -0.087310 -0.029922 -0.036745  0.090470   \n",
              "Rating                  0.134015 -0.059270  0.037622  0.050919 -0.063575   \n",
              "Global_Sales           -0.078720  0.025706  0.940451  0.900325  0.610518   \n",
              "\n",
              "                 Critic_Score  Critic_Count  User_Score  User_Count  \\\n",
              "Year_of_Release      0.005473      0.116242   -0.137240    0.090086   \n",
              "Genre                0.104604     -0.009090    0.007396    0.004222   \n",
              "NA_Sales             0.186719      0.223509    0.066391    0.190833   \n",
              "EU_Sales             0.194882      0.240464    0.046775    0.252379   \n",
              "JP_Sales             0.091767      0.106054    0.077842    0.044505   \n",
              "Critic_Score         1.000000      0.427287    0.492845    0.249138   \n",
              "Critic_Count         0.427287      1.000000    0.169882    0.350455   \n",
              "User_Score           0.492845      0.169882    1.000000    0.020687   \n",
              "User_Count           0.249138      0.350455    0.020687    1.000000   \n",
              "Developer            0.017176      0.025066    0.010084   -0.011477   \n",
              "Rating               0.042908      0.198769    0.065963    0.074260   \n",
              "Global_Sales         0.202397      0.244800    0.071988    0.218593   \n",
              "\n",
              "                 Developer    Rating  Global_Sales  \n",
              "Year_of_Release  -0.141434  0.134015     -0.078720  \n",
              "Genre            -0.087310 -0.059270      0.025706  \n",
              "NA_Sales         -0.029922  0.037622      0.940451  \n",
              "EU_Sales         -0.036745  0.050919      0.900325  \n",
              "JP_Sales          0.090470 -0.063575      0.610518  \n",
              "Critic_Score      0.017176  0.042908      0.202397  \n",
              "Critic_Count      0.025066  0.198769      0.244800  \n",
              "User_Score        0.010084  0.065963      0.071988  \n",
              "User_Count       -0.011477  0.074260      0.218593  \n",
              "Developer         1.000000 -0.330280     -0.015612  \n",
              "Rating           -0.330280  1.000000      0.032276  \n",
              "Global_Sales     -0.015612  0.032276      1.000000  "
            ],
            "text/html": [
              "\n",
              "  <div id=\"df-60dfc31c-f71c-4069-98bf-1182aa67b97a\">\n",
              "    <div class=\"colab-df-container\">\n",
              "      <div>\n",
              "<style scoped>\n",
              "    .dataframe tbody tr th:only-of-type {\n",
              "        vertical-align: middle;\n",
              "    }\n",
              "\n",
              "    .dataframe tbody tr th {\n",
              "        vertical-align: top;\n",
              "    }\n",
              "\n",
              "    .dataframe thead th {\n",
              "        text-align: right;\n",
              "    }\n",
              "</style>\n",
              "<table border=\"1\" class=\"dataframe\">\n",
              "  <thead>\n",
              "    <tr style=\"text-align: right;\">\n",
              "      <th></th>\n",
              "      <th>Year_of_Release</th>\n",
              "      <th>Genre</th>\n",
              "      <th>NA_Sales</th>\n",
              "      <th>EU_Sales</th>\n",
              "      <th>JP_Sales</th>\n",
              "      <th>Critic_Score</th>\n",
              "      <th>Critic_Count</th>\n",
              "      <th>User_Score</th>\n",
              "      <th>User_Count</th>\n",
              "      <th>Developer</th>\n",
              "      <th>Rating</th>\n",
              "      <th>Global_Sales</th>\n",
              "    </tr>\n",
              "  </thead>\n",
              "  <tbody>\n",
              "    <tr>\n",
              "      <th>Year_of_Release</th>\n",
              "      <td>1.000000</td>\n",
              "      <td>-0.122394</td>\n",
              "      <td>-0.095565</td>\n",
              "      <td>0.006070</td>\n",
              "      <td>-0.176927</td>\n",
              "      <td>0.005473</td>\n",
              "      <td>0.116242</td>\n",
              "      <td>-0.137240</td>\n",
              "      <td>0.090086</td>\n",
              "      <td>-0.141434</td>\n",
              "      <td>0.134015</td>\n",
              "      <td>-0.078720</td>\n",
              "    </tr>\n",
              "    <tr>\n",
              "      <th>Genre</th>\n",
              "      <td>-0.122394</td>\n",
              "      <td>1.000000</td>\n",
              "      <td>0.020473</td>\n",
              "      <td>0.020495</td>\n",
              "      <td>0.033758</td>\n",
              "      <td>0.104604</td>\n",
              "      <td>-0.009090</td>\n",
              "      <td>0.007396</td>\n",
              "      <td>0.004222</td>\n",
              "      <td>-0.087310</td>\n",
              "      <td>-0.059270</td>\n",
              "      <td>0.025706</td>\n",
              "    </tr>\n",
              "    <tr>\n",
              "      <th>NA_Sales</th>\n",
              "      <td>-0.095565</td>\n",
              "      <td>0.020473</td>\n",
              "      <td>1.000000</td>\n",
              "      <td>0.763139</td>\n",
              "      <td>0.446972</td>\n",
              "      <td>0.186719</td>\n",
              "      <td>0.223509</td>\n",
              "      <td>0.066391</td>\n",
              "      <td>0.190833</td>\n",
              "      <td>-0.029922</td>\n",
              "      <td>0.037622</td>\n",
              "      <td>0.940451</td>\n",
              "    </tr>\n",
              "    <tr>\n",
              "      <th>EU_Sales</th>\n",
              "      <td>0.006070</td>\n",
              "      <td>0.020495</td>\n",
              "      <td>0.763139</td>\n",
              "      <td>1.000000</td>\n",
              "      <td>0.432235</td>\n",
              "      <td>0.194882</td>\n",
              "      <td>0.240464</td>\n",
              "      <td>0.046775</td>\n",
              "      <td>0.252379</td>\n",
              "      <td>-0.036745</td>\n",
              "      <td>0.050919</td>\n",
              "      <td>0.900325</td>\n",
              "    </tr>\n",
              "    <tr>\n",
              "      <th>JP_Sales</th>\n",
              "      <td>-0.176927</td>\n",
              "      <td>0.033758</td>\n",
              "      <td>0.446972</td>\n",
              "      <td>0.432235</td>\n",
              "      <td>1.000000</td>\n",
              "      <td>0.091767</td>\n",
              "      <td>0.106054</td>\n",
              "      <td>0.077842</td>\n",
              "      <td>0.044505</td>\n",
              "      <td>0.090470</td>\n",
              "      <td>-0.063575</td>\n",
              "      <td>0.610518</td>\n",
              "    </tr>\n",
              "    <tr>\n",
              "      <th>Critic_Score</th>\n",
              "      <td>0.005473</td>\n",
              "      <td>0.104604</td>\n",
              "      <td>0.186719</td>\n",
              "      <td>0.194882</td>\n",
              "      <td>0.091767</td>\n",
              "      <td>1.000000</td>\n",
              "      <td>0.427287</td>\n",
              "      <td>0.492845</td>\n",
              "      <td>0.249138</td>\n",
              "      <td>0.017176</td>\n",
              "      <td>0.042908</td>\n",
              "      <td>0.202397</td>\n",
              "    </tr>\n",
              "    <tr>\n",
              "      <th>Critic_Count</th>\n",
              "      <td>0.116242</td>\n",
              "      <td>-0.009090</td>\n",
              "      <td>0.223509</td>\n",
              "      <td>0.240464</td>\n",
              "      <td>0.106054</td>\n",
              "      <td>0.427287</td>\n",
              "      <td>1.000000</td>\n",
              "      <td>0.169882</td>\n",
              "      <td>0.350455</td>\n",
              "      <td>0.025066</td>\n",
              "      <td>0.198769</td>\n",
              "      <td>0.244800</td>\n",
              "    </tr>\n",
              "    <tr>\n",
              "      <th>User_Score</th>\n",
              "      <td>-0.137240</td>\n",
              "      <td>0.007396</td>\n",
              "      <td>0.066391</td>\n",
              "      <td>0.046775</td>\n",
              "      <td>0.077842</td>\n",
              "      <td>0.492845</td>\n",
              "      <td>0.169882</td>\n",
              "      <td>1.000000</td>\n",
              "      <td>0.020687</td>\n",
              "      <td>0.010084</td>\n",
              "      <td>0.065963</td>\n",
              "      <td>0.071988</td>\n",
              "    </tr>\n",
              "    <tr>\n",
              "      <th>User_Count</th>\n",
              "      <td>0.090086</td>\n",
              "      <td>0.004222</td>\n",
              "      <td>0.190833</td>\n",
              "      <td>0.252379</td>\n",
              "      <td>0.044505</td>\n",
              "      <td>0.249138</td>\n",
              "      <td>0.350455</td>\n",
              "      <td>0.020687</td>\n",
              "      <td>1.000000</td>\n",
              "      <td>-0.011477</td>\n",
              "      <td>0.074260</td>\n",
              "      <td>0.218593</td>\n",
              "    </tr>\n",
              "    <tr>\n",
              "      <th>Developer</th>\n",
              "      <td>-0.141434</td>\n",
              "      <td>-0.087310</td>\n",
              "      <td>-0.029922</td>\n",
              "      <td>-0.036745</td>\n",
              "      <td>0.090470</td>\n",
              "      <td>0.017176</td>\n",
              "      <td>0.025066</td>\n",
              "      <td>0.010084</td>\n",
              "      <td>-0.011477</td>\n",
              "      <td>1.000000</td>\n",
              "      <td>-0.330280</td>\n",
              "      <td>-0.015612</td>\n",
              "    </tr>\n",
              "    <tr>\n",
              "      <th>Rating</th>\n",
              "      <td>0.134015</td>\n",
              "      <td>-0.059270</td>\n",
              "      <td>0.037622</td>\n",
              "      <td>0.050919</td>\n",
              "      <td>-0.063575</td>\n",
              "      <td>0.042908</td>\n",
              "      <td>0.198769</td>\n",
              "      <td>0.065963</td>\n",
              "      <td>0.074260</td>\n",
              "      <td>-0.330280</td>\n",
              "      <td>1.000000</td>\n",
              "      <td>0.032276</td>\n",
              "    </tr>\n",
              "    <tr>\n",
              "      <th>Global_Sales</th>\n",
              "      <td>-0.078720</td>\n",
              "      <td>0.025706</td>\n",
              "      <td>0.940451</td>\n",
              "      <td>0.900325</td>\n",
              "      <td>0.610518</td>\n",
              "      <td>0.202397</td>\n",
              "      <td>0.244800</td>\n",
              "      <td>0.071988</td>\n",
              "      <td>0.218593</td>\n",
              "      <td>-0.015612</td>\n",
              "      <td>0.032276</td>\n",
              "      <td>1.000000</td>\n",
              "    </tr>\n",
              "  </tbody>\n",
              "</table>\n",
              "</div>\n",
              "      <button class=\"colab-df-convert\" onclick=\"convertToInteractive('df-60dfc31c-f71c-4069-98bf-1182aa67b97a')\"\n",
              "              title=\"Convert this dataframe to an interactive table.\"\n",
              "              style=\"display:none;\">\n",
              "        \n",
              "  <svg xmlns=\"http://www.w3.org/2000/svg\" height=\"24px\"viewBox=\"0 0 24 24\"\n",
              "       width=\"24px\">\n",
              "    <path d=\"M0 0h24v24H0V0z\" fill=\"none\"/>\n",
              "    <path d=\"M18.56 5.44l.94 2.06.94-2.06 2.06-.94-2.06-.94-.94-2.06-.94 2.06-2.06.94zm-11 1L8.5 8.5l.94-2.06 2.06-.94-2.06-.94L8.5 2.5l-.94 2.06-2.06.94zm10 10l.94 2.06.94-2.06 2.06-.94-2.06-.94-.94-2.06-.94 2.06-2.06.94z\"/><path d=\"M17.41 7.96l-1.37-1.37c-.4-.4-.92-.59-1.43-.59-.52 0-1.04.2-1.43.59L10.3 9.45l-7.72 7.72c-.78.78-.78 2.05 0 2.83L4 21.41c.39.39.9.59 1.41.59.51 0 1.02-.2 1.41-.59l7.78-7.78 2.81-2.81c.8-.78.8-2.07 0-2.86zM5.41 20L4 18.59l7.72-7.72 1.47 1.35L5.41 20z\"/>\n",
              "  </svg>\n",
              "      </button>\n",
              "      \n",
              "  <style>\n",
              "    .colab-df-container {\n",
              "      display:flex;\n",
              "      flex-wrap:wrap;\n",
              "      gap: 12px;\n",
              "    }\n",
              "\n",
              "    .colab-df-convert {\n",
              "      background-color: #E8F0FE;\n",
              "      border: none;\n",
              "      border-radius: 50%;\n",
              "      cursor: pointer;\n",
              "      display: none;\n",
              "      fill: #1967D2;\n",
              "      height: 32px;\n",
              "      padding: 0 0 0 0;\n",
              "      width: 32px;\n",
              "    }\n",
              "\n",
              "    .colab-df-convert:hover {\n",
              "      background-color: #E2EBFA;\n",
              "      box-shadow: 0px 1px 2px rgba(60, 64, 67, 0.3), 0px 1px 3px 1px rgba(60, 64, 67, 0.15);\n",
              "      fill: #174EA6;\n",
              "    }\n",
              "\n",
              "    [theme=dark] .colab-df-convert {\n",
              "      background-color: #3B4455;\n",
              "      fill: #D2E3FC;\n",
              "    }\n",
              "\n",
              "    [theme=dark] .colab-df-convert:hover {\n",
              "      background-color: #434B5C;\n",
              "      box-shadow: 0px 1px 3px 1px rgba(0, 0, 0, 0.15);\n",
              "      filter: drop-shadow(0px 1px 2px rgba(0, 0, 0, 0.3));\n",
              "      fill: #FFFFFF;\n",
              "    }\n",
              "  </style>\n",
              "\n",
              "      <script>\n",
              "        const buttonEl =\n",
              "          document.querySelector('#df-60dfc31c-f71c-4069-98bf-1182aa67b97a button.colab-df-convert');\n",
              "        buttonEl.style.display =\n",
              "          google.colab.kernel.accessAllowed ? 'block' : 'none';\n",
              "\n",
              "        async function convertToInteractive(key) {\n",
              "          const element = document.querySelector('#df-60dfc31c-f71c-4069-98bf-1182aa67b97a');\n",
              "          const dataTable =\n",
              "            await google.colab.kernel.invokeFunction('convertToInteractive',\n",
              "                                                     [key], {});\n",
              "          if (!dataTable) return;\n",
              "\n",
              "          const docLinkHtml = 'Like what you see? Visit the ' +\n",
              "            '<a target=\"_blank\" href=https://colab.research.google.com/notebooks/data_table.ipynb>data table notebook</a>'\n",
              "            + ' to learn more about interactive tables.';\n",
              "          element.innerHTML = '';\n",
              "          dataTable['output_type'] = 'display_data';\n",
              "          await google.colab.output.renderOutput(dataTable, element);\n",
              "          const docLink = document.createElement('div');\n",
              "          docLink.innerHTML = docLinkHtml;\n",
              "          element.appendChild(docLink);\n",
              "        }\n",
              "      </script>\n",
              "    </div>\n",
              "  </div>\n",
              "  "
            ]
          },
          "metadata": {},
          "execution_count": 46
        }
      ]
    },
    {
      "cell_type": "markdown",
      "source": [
        "# **Building the model**\n",
        "In this we will build several regression model on the same dataset and finally we will find which model yields the best score.\n",
        "\n",
        "1. Linear Regression\n",
        "2. Random Forest Regressor\n",
        "\n",
        "\n"
      ],
      "metadata": {
        "id": "TA1C5uBWDqIx"
      }
    },
    {
      "cell_type": "markdown",
      "source": [
        "### **Defining the input-output features**\n",
        "After reading the dataset in the above step, we will define the input and features. All the columns except amount will be defined as input features and the amount will be defined as the output feature"
      ],
      "metadata": {
        "id": "rfEePPmGW6i7"
      }
    },
    {
      "cell_type": "code",
      "source": [
        "#implementing Linear Regression\n",
        "X = train_df.drop(['Global_Sales','Name','Platform','Publisher'], axis=1)\n",
        "#Feature selection\n",
        "# the dependent variable \n",
        "y= train_df[['Global_Sales']]"
      ],
      "metadata": {
        "id": "DYcQZ0zLCF6v"
      },
      "execution_count": 47,
      "outputs": []
    },
    {
      "cell_type": "markdown",
      "source": [
        "In this step, we will split the input and output features into the training set and test set."
      ],
      "metadata": {
        "id": "v2-9g7HkXDDw"
      }
    },
    {
      "cell_type": "code",
      "source": [
        "X_train, X_test, y_train, y_test = train_test_split(X, y, test_size=0.30, random_state=1)"
      ],
      "metadata": {
        "id": "stiniwT_Cc3h"
      },
      "execution_count": 48,
      "outputs": []
    },
    {
      "cell_type": "markdown",
      "source": [
        "**Preprocessing**"
      ],
      "metadata": {
        "id": "sg5iHlQ-XN6_"
      }
    },
    {
      "cell_type": "code",
      "source": [
        "from sklearn.preprocessing import StandardScaler\n",
        "st_x= StandardScaler()    \n",
        "x_train= st_x.fit_transform(X_train)    \n",
        "x_test= st_x.transform(X_test)"
      ],
      "metadata": {
        "id": "l2gX2nquXLVB"
      },
      "execution_count": 49,
      "outputs": []
    },
    {
      "cell_type": "markdown",
      "source": [
        "### **1.Linear Regression**"
      ],
      "metadata": {
        "id": "BbrfoHpaYOY1"
      }
    },
    {
      "cell_type": "code",
      "source": [
        "reg_model = LinearRegression()\n",
        "reg_model.fit(X_train, y_train)"
      ],
      "metadata": {
        "colab": {
          "base_uri": "https://localhost:8080/"
        },
        "id": "l4qOwuZ6CsUA",
        "outputId": "10211116-725a-4660-f9f0-c7cd3e45a13c"
      },
      "execution_count": 50,
      "outputs": [
        {
          "output_type": "execute_result",
          "data": {
            "text/plain": [
              "LinearRegression()"
            ]
          },
          "metadata": {},
          "execution_count": 50
        }
      ]
    },
    {
      "cell_type": "code",
      "source": [
        "reg_model.score(X_train, y_train),reg_model.score(X_test, y_test)"
      ],
      "metadata": {
        "colab": {
          "base_uri": "https://localhost:8080/"
        },
        "id": "zAiKSWslDGSA",
        "outputId": "d3aba93d-59a7-4d4d-ae0b-aabb29f4d955"
      },
      "execution_count": 51,
      "outputs": [
        {
          "output_type": "execute_result",
          "data": {
            "text/plain": [
              "(0.9954700849353215, 0.9869334714508348)"
            ]
          },
          "metadata": {},
          "execution_count": 51
        }
      ]
    },
    {
      "cell_type": "markdown",
      "source": [
        "Here, the training-set accuracy score is **0.995** while the test-set accuracy to be **0.98**.Though the accuracy of this model is very good but we rule out Linear Regression model because the dataset has more outliers and Linear regression model is not robust to the outliers"
      ],
      "metadata": {
        "id": "6fV10asfXSHY"
      }
    },
    {
      "cell_type": "markdown",
      "source": [
        "**Predicting the test data**\n",
        "\n",
        "With the trained Linear Regression model, we will predict the global sales using the test data."
      ],
      "metadata": {
        "id": "QquazHJTXxtx"
      }
    },
    {
      "cell_type": "code",
      "source": [
        "y = train_df[\"Global_Sales\"]\n",
        "\n",
        "features = [\"Developer\",\"Genre\",\"Year_of_Release\",'NA_Sales','EU_Sales', 'JP_Sales', 'Critic_Score', 'Critic_Count', 'User_Score','User_Count','Rating']\n",
        "X = pd.get_dummies(train_df[features])\n",
        "X_test = pd.get_dummies(test_df[features])\n",
        "\n",
        "reg_model.fit(X, y)\n",
        "predictions = reg_model.predict(X_test)\n",
        "\n",
        "output = pd.DataFrame({'name': test_df.Name, 'global sales': predictions})\n",
        "output.to_csv('LR_submission.csv', index=False)\n",
        "print(\"File submission was successfully saved!\")"
      ],
      "metadata": {
        "colab": {
          "base_uri": "https://localhost:8080/"
        },
        "id": "R6jYtGXr-tQv",
        "outputId": "8eb43015-8c75-4ec0-fcc4-e119342de7e5"
      },
      "execution_count": 58,
      "outputs": [
        {
          "output_type": "stream",
          "name": "stdout",
          "text": [
            "File submission was successfully saved!\n"
          ]
        }
      ]
    },
    {
      "cell_type": "markdown",
      "source": [
        " ### **2.RandomForestRegressor**\n"
      ],
      "metadata": {
        "id": "U4y_j-Rbnw1m"
      }
    },
    {
      "cell_type": "code",
      "source": [
        "# create regressor object\n",
        "regressor = RandomForestRegressor(n_estimators = 500, random_state = 0)\n",
        "# fit the regressor with x and y data"
      ],
      "metadata": {
        "id": "kJGW7JGdDX0g"
      },
      "execution_count": 53,
      "outputs": []
    },
    {
      "cell_type": "code",
      "source": [
        "regressor.fit(X_train, y_train)\n",
        "#Train data\n",
        "regressor.score(X_train,y_train)*100"
      ],
      "metadata": {
        "colab": {
          "base_uri": "https://localhost:8080/"
        },
        "id": "x3Y7ZOrtDa6n",
        "outputId": "8a06b960-c9b4-40ff-fd12-f06a8e867a19"
      },
      "execution_count": 54,
      "outputs": [
        {
          "output_type": "stream",
          "name": "stderr",
          "text": [
            "/usr/local/lib/python3.7/dist-packages/ipykernel_launcher.py:1: DataConversionWarning: A column-vector y was passed when a 1d array was expected. Please change the shape of y to (n_samples,), for example using ravel().\n",
            "  \"\"\"Entry point for launching an IPython kernel.\n"
          ]
        },
        {
          "output_type": "execute_result",
          "data": {
            "text/plain": [
              "98.57915470184734"
            ]
          },
          "metadata": {},
          "execution_count": 54
        }
      ]
    },
    {
      "cell_type": "markdown",
      "source": [
        "Here, the training-set accuracy score is 98.5 while the test-set accuracy to be 99.42 . It is clear that, in this dataset random forest regressor produces the highest accuracy score.\n",
        "\n",
        "\n",
        "RandomForest Regressor is chosen as the final model as it Robust to outliers and it do not require any feature scaling techniques on data unlike Linear regression model\n"
      ],
      "metadata": {
        "id": "9TYVoBV2YyVd"
      }
    },
    {
      "cell_type": "markdown",
      "source": [
        "\n",
        "**Predicting the test data**\n",
        "\n",
        "With the trained RandomForest Regressor model, we will predict the global sales using the test data."
      ],
      "metadata": {
        "id": "lGQUvWegYnTY"
      }
    },
    {
      "cell_type": "code",
      "source": [
        "y = train_df[\"Global_Sales\"]\n",
        "\n",
        "features = [\"Developer\",\"Genre\",\"Year_of_Release\",'NA_Sales','EU_Sales', 'JP_Sales', 'Critic_Score', 'Critic_Count', 'User_Score','User_Count','Rating']\n",
        "X = pd.get_dummies(train_df[features])\n",
        "X_test = pd.get_dummies(test_df[features])\n",
        "\n",
        "model = RandomForestRegressor(n_estimators=250, max_depth=7, random_state=1)\n",
        "model.fit(X, y)\n",
        "predictions = model.predict(X_test)\n",
        "\n",
        "output = pd.DataFrame({'name': test_df.Name, 'global sales': predictions})\n",
        "output.to_csv('RGR_submission.csv', index=False)\n",
        "print(\"File  was successfully saved!\")"
      ],
      "metadata": {
        "colab": {
          "base_uri": "https://localhost:8080/"
        },
        "id": "-g1NCLUtnJkd",
        "outputId": "fdc17c5e-d781-4876-a52d-5d6ea8b61e1b"
      },
      "execution_count": 57,
      "outputs": [
        {
          "output_type": "stream",
          "name": "stdout",
          "text": [
            "File  was successfully saved!\n"
          ]
        }
      ]
    }
  ]
}